{
 "cells": [
  {
   "cell_type": "markdown",
   "metadata": {},
   "source": [
    "## Nanodegree Project 1 - Calculating budget for traveling Sicily\n",
    "The project is based on Airbnb data for Sicily, retrieved from http://insideairbnb.com/. \n",
    "The target of the project is to explore relationship between rental fee, locations and accomodation characteristics of the airbnb offer. The project will analysis the forecasted cost for accomodation of an hypothetical 2 weeks travel in Sicily, considering variation in travelling preferences,  destinations and requested room characteristics (and assuming to stay in some Airbnb or Airbnb-like houses).  "
   ]
  },
  {
   "cell_type": "markdown",
   "metadata": {},
   "source": [
    "## Step 2: Project questions \n",
    "The traveler is assumed to have the following preferences. \n",
    "\n",
    "Mandatory requirement:\n",
    "- Travel will be a family holyday, for a family composed by two parents and 1 kid\n",
    "- Duration will be 14 night\n",
    "- Private room, private bath\n",
    "\n",
    "Negotiable requirement:\n",
    "- Some review and good rating (>7)\n",
    "- Second sleeping room \n",
    "- Second bathroom\n",
    "\n",
    "And -of course- there is a budget: we assume to allocate \\$2000 for accomodations (\\$143 per night), and we want 75% of available solutions to stay within the budget. "
   ]
  },
  {
   "cell_type": "markdown",
   "metadata": {},
   "source": [
    "#### Question 1"
   ]
  },
  {
   "cell_type": "markdown",
   "metadata": {},
   "source": [
    "Is it doable? Do we see 75 percent of listings at a cost lower than \\$143 per night, once we have filtered for mandatory requirements? Can we accomodate in the budget limit also  negotiable ones? Among negotiable parameters, which are the ones with higher positive correlation with costs?  "
   ]
  },
  {
   "cell_type": "markdown",
   "metadata": {},
   "source": [
    "#### Question 2"
   ]
  },
  {
   "cell_type": "markdown",
   "metadata": {},
   "source": [
    "Let's assume the traveler downloaded from the internet the set of \"best 20 location to visit in Sicily\"; which is the impact of introducing in the mandatory requirements the stay on one of the 20 locations? How many of them stays within budget limits? "
   ]
  },
  {
   "cell_type": "markdown",
   "metadata": {},
   "source": [
    "#### Question 3"
   ]
  },
  {
   "cell_type": "markdown",
   "metadata": {},
   "source": [
    "Looking again in the internet, the traveler visited https://www.voyagetips.com/it/itinerari-2-settimane-in-sicilia/ where he found suggestions for a trip touching several locations. Which is expected cost change with this option? What if we assume to leave a August 1st this year?"
   ]
  },
  {
   "cell_type": "markdown",
   "metadata": {},
   "source": [
    "## Step 3.a: Loading and preparing data"
   ]
  },
  {
   "cell_type": "markdown",
   "metadata": {},
   "source": [
    "Considering questions above, among available data set, we may want to use of the following files:\n",
    "- \"listings_full.csv\": descriptions of the different structures, including position, price, charcteristics, rating etc \n",
    "- \"calendar.csv\": basically price per date per accomodation. \n",
    "- \"reviews_short.csv\": each rows corresponds to a stay review and provides a reference to the evaluated structure and a date for the review \n",
    "- \"reviews_full.csv\": for each review listed in the previous file, adds reviewer id and the text provided as a review \n",
    "\n",
    "All dataset were initially explored in a dedicated notebook"
   ]
  },
  {
   "cell_type": "code",
   "execution_count": 1,
   "metadata": {},
   "outputs": [],
   "source": [
    "import numpy as np\n",
    "import pandas as pd\n",
    "import matplotlib.pyplot as plt\n",
    "from sklearn.linear_model import LinearRegression\n",
    "from sklearn.model_selection import train_test_split\n",
    "from sklearn.metrics import r2_score, mean_squared_error\n",
    "import seaborn as sns\n",
    "#import cufflinks as cf\n",
    "%matplotlib inline"
   ]
  },
  {
   "cell_type": "code",
   "execution_count": 2,
   "metadata": {},
   "outputs": [
    {
     "name": "stdout",
     "output_type": "stream",
     "text": [
      "C:\\Users\\Roberto\\UdacityNanodegreeAirbnb\\Data\n"
     ]
    }
   ],
   "source": [
    "cd \".\\\\Data\""
   ]
  },
  {
   "cell_type": "markdown",
   "metadata": {},
   "source": [
    "Based on the information gathered in first data exploration, I filter among available columns the subset that is more promising for our target analysis"
   ]
  },
  {
   "cell_type": "code",
   "execution_count": 3,
   "metadata": {},
   "outputs": [],
   "source": [
    "listings_needed_col=[\n",
    "    'id', 'last_scraped', 'name', 'description','neighborhood_overview', 'host_since', 'host_location', \n",
    "    'host_response_time', 'host_response_rate', 'host_acceptance_rate', 'host_is_superhost', 'neighbourhood',\n",
    "    'neighbourhood_cleansed', 'neighbourhood_group_cleansed', 'property_type', 'room_type', 'accommodates', \n",
    "    'bathrooms', 'bathrooms_text','bedrooms', 'beds', 'price', 'minimum_nights', 'maximum_nights', 'calendar_updated', \n",
    "    'has_availability', 'availability_30', 'availability_60', 'availability_90', 'availability_365', \n",
    "    'calendar_last_scraped', 'number_of_reviews', 'number_of_reviews_ltm', 'number_of_reviews_l30d', \n",
    "    'first_review', 'last_review', 'review_scores_rating', 'review_scores_accuracy', 'review_scores_cleanliness', \n",
    "    'review_scores_checkin', 'review_scores_communication', 'review_scores_location', 'review_scores_value', \n",
    "    'license', 'instant_bookable', 'reviews_per_month']"
   ]
  },
  {
   "cell_type": "code",
   "execution_count": 4,
   "metadata": {
    "scrolled": false
   },
   "outputs": [
    {
     "name": "stderr",
     "output_type": "stream",
     "text": [
      "C:\\Users\\Roberto\\anaconda3\\lib\\site-packages\\IPython\\core\\interactiveshell.py:3146: DtypeWarning: Columns (67) have mixed types.Specify dtype option on import or set low_memory=False.\n",
      "  has_raised = await self.run_ast_nodes(code_ast.body, cell_name,\n"
     ]
    }
   ],
   "source": [
    "listings=pd.read_csv('listings_full.csv', usecols=listings_needed_col)"
   ]
  },
  {
   "cell_type": "markdown",
   "metadata": {},
   "source": [
    "As the rental price will be the main variable under analysis, let's first examine values in the price column. Unfortunately, it is not stored as numerical values: "
   ]
  },
  {
   "cell_type": "code",
   "execution_count": 5,
   "metadata": {},
   "outputs": [
    {
     "name": "stdout",
     "output_type": "stream",
     "text": [
      "<class 'pandas.core.frame.DataFrame'>\n",
      "RangeIndex: 49659 entries, 0 to 49658\n",
      "Data columns (total 1 columns):\n",
      " #   Column  Non-Null Count  Dtype \n",
      "---  ------  --------------  ----- \n",
      " 0   price   49659 non-null  object\n",
      "dtypes: object(1)\n",
      "memory usage: 388.1+ KB\n"
     ]
    }
   ],
   "source": [
    "listings[['price']].info()"
   ]
  },
  {
   "cell_type": "code",
   "execution_count": 6,
   "metadata": {},
   "outputs": [
    {
     "data": {
      "text/html": [
       "<div>\n",
       "<style scoped>\n",
       "    .dataframe tbody tr th:only-of-type {\n",
       "        vertical-align: middle;\n",
       "    }\n",
       "\n",
       "    .dataframe tbody tr th {\n",
       "        vertical-align: top;\n",
       "    }\n",
       "\n",
       "    .dataframe thead th {\n",
       "        text-align: right;\n",
       "    }\n",
       "</style>\n",
       "<table border=\"1\" class=\"dataframe\">\n",
       "  <thead>\n",
       "    <tr style=\"text-align: right;\">\n",
       "      <th></th>\n",
       "      <th>price</th>\n",
       "    </tr>\n",
       "  </thead>\n",
       "  <tbody>\n",
       "    <tr>\n",
       "      <th>count</th>\n",
       "      <td>49659</td>\n",
       "    </tr>\n",
       "    <tr>\n",
       "      <th>unique</th>\n",
       "      <td>729</td>\n",
       "    </tr>\n",
       "    <tr>\n",
       "      <th>top</th>\n",
       "      <td>$50.00</td>\n",
       "    </tr>\n",
       "    <tr>\n",
       "      <th>freq</th>\n",
       "      <td>3703</td>\n",
       "    </tr>\n",
       "  </tbody>\n",
       "</table>\n",
       "</div>"
      ],
      "text/plain": [
       "         price\n",
       "count    49659\n",
       "unique     729\n",
       "top     $50.00\n",
       "freq      3703"
      ]
     },
     "execution_count": 6,
     "metadata": {},
     "output_type": "execute_result"
    }
   ],
   "source": [
    "listings[['price']].describe()"
   ]
  },
  {
   "cell_type": "code",
   "execution_count": 7,
   "metadata": {},
   "outputs": [
    {
     "data": {
      "text/plain": [
       "$50.00       3703\n",
       "$60.00       2815\n",
       "$40.00       2339\n",
       "$70.00       2013\n",
       "$100.00      1995\n",
       "             ... \n",
       "$2,559.00       1\n",
       "$906.00         1\n",
       "$1,180.00       1\n",
       "$743.00         1\n",
       "$481.00         1\n",
       "Name: price, Length: 729, dtype: int64"
      ]
     },
     "execution_count": 7,
     "metadata": {},
     "output_type": "execute_result"
    }
   ],
   "source": [
    "listings['price'].value_counts()"
   ]
  },
  {
   "cell_type": "markdown",
   "metadata": {},
   "source": [
    "Apparently the reason why prices were stored as string is the presence of the '$' symbol in the string and the usage of comma as a thousand separator. Let's check with a function is this is the only issue:"
   ]
  },
  {
   "cell_type": "code",
   "execution_count": 8,
   "metadata": {},
   "outputs": [
    {
     "name": "stdout",
     "output_type": "stream",
     "text": [
      "0 exceptions found\n"
     ]
    }
   ],
   "source": [
    "prices=list(listings['price'].unique())\n",
    "def check_prices(prices):\n",
    "    exceptions=0\n",
    "    for p in prices:\n",
    "        try:\n",
    "            v=float(p.strip('$').replace(',',''))\n",
    "        except:\n",
    "            exceptions+=1\n",
    "            print(p)\n",
    "    print('{} exceptions found'.format(exceptions))        \n",
    "check_prices(prices)"
   ]
  },
  {
   "cell_type": "markdown",
   "metadata": {},
   "source": [
    "Knowing that the assumption is correct, let' modify the dataframe"
   ]
  },
  {
   "cell_type": "code",
   "execution_count": 9,
   "metadata": {},
   "outputs": [],
   "source": [
    "def numerical_price(price):\n",
    "    return float(price.strip('$').replace(',',''))\n",
    "\n",
    "listings['price']=listings['price'].apply(lambda x: numerical_price(x)) \n"
   ]
  },
  {
   "cell_type": "markdown",
   "metadata": {},
   "source": [
    "Finally, it seams we have some outlier in the set. Let's check for 'big' values:"
   ]
  },
  {
   "cell_type": "code",
   "execution_count": 10,
   "metadata": {},
   "outputs": [
    {
     "name": "stdout",
     "output_type": "stream",
     "text": [
      "count    49659.000000\n",
      "mean        93.213093\n",
      "std        242.796749\n",
      "min          9.000000\n",
      "25%         45.000000\n",
      "50%         60.000000\n",
      "75%         95.000000\n",
      "max      21000.000000\n",
      "Name: price, dtype: float64\n",
      "count      118.000000\n",
      "mean      2943.432203\n",
      "std       3671.752560\n",
      "min       1007.000000\n",
      "25%       1187.000000\n",
      "50%       1540.000000\n",
      "75%       2500.000000\n",
      "max      21000.000000\n",
      "Name: price, dtype: float64\n"
     ]
    },
    {
     "data": {
      "text/plain": [
       "<AxesSubplot:>"
      ]
     },
     "execution_count": 10,
     "metadata": {},
     "output_type": "execute_result"
    },
    {
     "data": {
      "image/png": "[encoded data removed]",
      "text/plain": [
       "<Figure size 432x288 with 1 Axes>"
      ]
     },
     "metadata": {
      "needs_background": "light"
     },
     "output_type": "display_data"
    }
   ],
   "source": [
    "print(listings['price'].describe())\n",
    "print(listings[listings['price']>1000]['price'].describe())\n",
    "listings['price'].hist(bins=100)\n"
   ]
  },
  {
   "cell_type": "code",
   "execution_count": 11,
   "metadata": {},
   "outputs": [
    {
     "data": {
      "text/plain": [
       "118"
      ]
     },
     "execution_count": 11,
     "metadata": {},
     "output_type": "execute_result"
    }
   ],
   "source": [
    "listings[listings['price']>1000]['id'].count()"
   ]
  },
  {
   "cell_type": "markdown",
   "metadata": {},
   "source": [
    "We have a small set of value much higher than the average. It is difficult to understand if this is due to really expensive accomodation or to some problem in the data. For the scope of the analysis, it is reasonable to drop this accomodations from the listing"
   ]
  },
  {
   "cell_type": "code",
   "execution_count": 12,
   "metadata": {},
   "outputs": [],
   "source": [
    "listings=listings[listings['price']<1000]"
   ]
  },
  {
   "cell_type": "code",
   "execution_count": 13,
   "metadata": {},
   "outputs": [
    {
     "name": "stdout",
     "output_type": "stream",
     "text": [
      "count    49479.000000\n",
      "mean        85.279492\n",
      "std         82.564741\n",
      "min          9.000000\n",
      "25%         45.000000\n",
      "50%         60.000000\n",
      "75%         95.000000\n",
      "max        999.000000\n",
      "Name: price, dtype: float64\n"
     ]
    },
    {
     "data": {
      "text/plain": [
       "<AxesSubplot:>"
      ]
     },
     "execution_count": 13,
     "metadata": {},
     "output_type": "execute_result"
    },
    {
     "data": {
      "image/png": "[encoded data removed]",
      "text/plain": [
       "<Figure size 432x288 with 1 Axes>"
      ]
     },
     "metadata": {
      "needs_background": "light"
     },
     "output_type": "display_data"
    }
   ],
   "source": [
    "print(listings['price'].describe())\n",
    "listings['price'].hist(bins=100)\n"
   ]
  },
  {
   "cell_type": "markdown",
   "metadata": {},
   "source": [
    "\n",
    "So, we start from having 75% of listing below \\$95 per night, well within the budget. Let's introduce mandatory requirement:\n",
    "- Travel will be a family holyday, for a family composed by two parents and 1 kid\n",
    "- Duration will be 14 night\n",
    "- Private room, private bath"
   ]
  },
  {
   "cell_type": "markdown",
   "metadata": {},
   "source": [
    "Requirement about number of travelers is most probably satisfied by the column 'bed', or by column bedrooms. Let's check the content  "
   ]
  },
  {
   "cell_type": "code",
   "execution_count": 14,
   "metadata": {},
   "outputs": [
    {
     "name": "stdout",
     "output_type": "stream",
     "text": [
      "<class 'pandas.core.frame.DataFrame'>\n",
      "Int64Index: 49479 entries, 0 to 49658\n",
      "Data columns (total 2 columns):\n",
      " #   Column    Non-Null Count  Dtype  \n",
      "---  ------    --------------  -----  \n",
      " 0   beds      49299 non-null  float64\n",
      " 1   bedrooms  48118 non-null  float64\n",
      "dtypes: float64(2)\n",
      "memory usage: 1.1 MB\n"
     ]
    }
   ],
   "source": [
    "listings[['beds','bedrooms']].info()"
   ]
  },
  {
   "cell_type": "code",
   "execution_count": 15,
   "metadata": {},
   "outputs": [
    {
     "data": {
      "text/html": [
       "<div>\n",
       "<style scoped>\n",
       "    .dataframe tbody tr th:only-of-type {\n",
       "        vertical-align: middle;\n",
       "    }\n",
       "\n",
       "    .dataframe tbody tr th {\n",
       "        vertical-align: top;\n",
       "    }\n",
       "\n",
       "    .dataframe thead th {\n",
       "        text-align: right;\n",
       "    }\n",
       "</style>\n",
       "<table border=\"1\" class=\"dataframe\">\n",
       "  <thead>\n",
       "    <tr style=\"text-align: right;\">\n",
       "      <th></th>\n",
       "      <th>beds</th>\n",
       "      <th>bedrooms</th>\n",
       "    </tr>\n",
       "  </thead>\n",
       "  <tbody>\n",
       "    <tr>\n",
       "      <th>count</th>\n",
       "      <td>49299.000000</td>\n",
       "      <td>48118.000000</td>\n",
       "    </tr>\n",
       "    <tr>\n",
       "      <th>mean</th>\n",
       "      <td>2.931195</td>\n",
       "      <td>1.843447</td>\n",
       "    </tr>\n",
       "    <tr>\n",
       "      <th>std</th>\n",
       "      <td>2.077344</td>\n",
       "      <td>1.085241</td>\n",
       "    </tr>\n",
       "    <tr>\n",
       "      <th>min</th>\n",
       "      <td>0.000000</td>\n",
       "      <td>1.000000</td>\n",
       "    </tr>\n",
       "    <tr>\n",
       "      <th>25%</th>\n",
       "      <td>2.000000</td>\n",
       "      <td>1.000000</td>\n",
       "    </tr>\n",
       "    <tr>\n",
       "      <th>50%</th>\n",
       "      <td>3.000000</td>\n",
       "      <td>2.000000</td>\n",
       "    </tr>\n",
       "    <tr>\n",
       "      <th>75%</th>\n",
       "      <td>4.000000</td>\n",
       "      <td>2.000000</td>\n",
       "    </tr>\n",
       "    <tr>\n",
       "      <th>max</th>\n",
       "      <td>67.000000</td>\n",
       "      <td>40.000000</td>\n",
       "    </tr>\n",
       "  </tbody>\n",
       "</table>\n",
       "</div>"
      ],
      "text/plain": [
       "               beds      bedrooms\n",
       "count  49299.000000  48118.000000\n",
       "mean       2.931195      1.843447\n",
       "std        2.077344      1.085241\n",
       "min        0.000000      1.000000\n",
       "25%        2.000000      1.000000\n",
       "50%        3.000000      2.000000\n",
       "75%        4.000000      2.000000\n",
       "max       67.000000     40.000000"
      ]
     },
     "execution_count": 15,
     "metadata": {},
     "output_type": "execute_result"
    }
   ],
   "source": [
    "listings[['beds','bedrooms']].describe()"
   ]
  },
  {
   "cell_type": "markdown",
   "metadata": {},
   "source": [
    "Both information are numeric (as desired) and available for most of the structures. We filter for beds >=3 and store the outcome in a new dataframe 'listings_target' that will collect structures satisfying all mandatory requirements. "
   ]
  },
  {
   "cell_type": "code",
   "execution_count": 16,
   "metadata": {},
   "outputs": [
    {
     "data": {
      "text/html": [
       "<div>\n",
       "<style scoped>\n",
       "    .dataframe tbody tr th:only-of-type {\n",
       "        vertical-align: middle;\n",
       "    }\n",
       "\n",
       "    .dataframe tbody tr th {\n",
       "        vertical-align: top;\n",
       "    }\n",
       "\n",
       "    .dataframe thead th {\n",
       "        text-align: right;\n",
       "    }\n",
       "</style>\n",
       "<table border=\"1\" class=\"dataframe\">\n",
       "  <thead>\n",
       "    <tr style=\"text-align: right;\">\n",
       "      <th></th>\n",
       "      <th>beds</th>\n",
       "    </tr>\n",
       "  </thead>\n",
       "  <tbody>\n",
       "    <tr>\n",
       "      <th>count</th>\n",
       "      <td>24911.000000</td>\n",
       "    </tr>\n",
       "    <tr>\n",
       "      <th>mean</th>\n",
       "      <td>4.375778</td>\n",
       "    </tr>\n",
       "    <tr>\n",
       "      <th>std</th>\n",
       "      <td>1.997342</td>\n",
       "    </tr>\n",
       "    <tr>\n",
       "      <th>min</th>\n",
       "      <td>3.000000</td>\n",
       "    </tr>\n",
       "    <tr>\n",
       "      <th>25%</th>\n",
       "      <td>3.000000</td>\n",
       "    </tr>\n",
       "    <tr>\n",
       "      <th>50%</th>\n",
       "      <td>4.000000</td>\n",
       "    </tr>\n",
       "    <tr>\n",
       "      <th>75%</th>\n",
       "      <td>5.000000</td>\n",
       "    </tr>\n",
       "    <tr>\n",
       "      <th>max</th>\n",
       "      <td>67.000000</td>\n",
       "    </tr>\n",
       "  </tbody>\n",
       "</table>\n",
       "</div>"
      ],
      "text/plain": [
       "               beds\n",
       "count  24911.000000\n",
       "mean       4.375778\n",
       "std        1.997342\n",
       "min        3.000000\n",
       "25%        3.000000\n",
       "50%        4.000000\n",
       "75%        5.000000\n",
       "max       67.000000"
      ]
     },
     "execution_count": 16,
     "metadata": {},
     "output_type": "execute_result"
    }
   ],
   "source": [
    "listings_target=listings[listings['beds']>=3]\n",
    "listings_target[['beds']].describe()"
   ]
  },
  {
   "cell_type": "markdown",
   "metadata": {},
   "source": [
    "Regarding duration (2 weeks), not having a starting date we cannot yet look for actual availability. For the scope of the exercise we assume for now to look for a structure allowing to stay for 14 might (using maximum nights column) "
   ]
  },
  {
   "cell_type": "code",
   "execution_count": 17,
   "metadata": {},
   "outputs": [
    {
     "data": {
      "text/html": [
       "<div>\n",
       "<style scoped>\n",
       "    .dataframe tbody tr th:only-of-type {\n",
       "        vertical-align: middle;\n",
       "    }\n",
       "\n",
       "    .dataframe tbody tr th {\n",
       "        vertical-align: top;\n",
       "    }\n",
       "\n",
       "    .dataframe thead th {\n",
       "        text-align: right;\n",
       "    }\n",
       "</style>\n",
       "<table border=\"1\" class=\"dataframe\">\n",
       "  <thead>\n",
       "    <tr style=\"text-align: right;\">\n",
       "      <th></th>\n",
       "      <th>maximum_nights</th>\n",
       "    </tr>\n",
       "  </thead>\n",
       "  <tbody>\n",
       "    <tr>\n",
       "      <th>count</th>\n",
       "      <td>2.491100e+04</td>\n",
       "    </tr>\n",
       "    <tr>\n",
       "      <th>mean</th>\n",
       "      <td>9.043519e+04</td>\n",
       "    </tr>\n",
       "    <tr>\n",
       "      <th>std</th>\n",
       "      <td>1.361804e+07</td>\n",
       "    </tr>\n",
       "    <tr>\n",
       "      <th>min</th>\n",
       "      <td>1.000000e+00</td>\n",
       "    </tr>\n",
       "    <tr>\n",
       "      <th>25%</th>\n",
       "      <td>3.000000e+01</td>\n",
       "    </tr>\n",
       "    <tr>\n",
       "      <th>50%</th>\n",
       "      <td>1.124000e+03</td>\n",
       "    </tr>\n",
       "    <tr>\n",
       "      <th>75%</th>\n",
       "      <td>1.125000e+03</td>\n",
       "    </tr>\n",
       "    <tr>\n",
       "      <th>max</th>\n",
       "      <td>2.147484e+09</td>\n",
       "    </tr>\n",
       "  </tbody>\n",
       "</table>\n",
       "</div>"
      ],
      "text/plain": [
       "       maximum_nights\n",
       "count    2.491100e+04\n",
       "mean     9.043519e+04\n",
       "std      1.361804e+07\n",
       "min      1.000000e+00\n",
       "25%      3.000000e+01\n",
       "50%      1.124000e+03\n",
       "75%      1.125000e+03\n",
       "max      2.147484e+09"
      ]
     },
     "execution_count": 17,
     "metadata": {},
     "output_type": "execute_result"
    }
   ],
   "source": [
    "listings_target[['maximum_nights']].describe()"
   ]
  },
  {
   "cell_type": "code",
   "execution_count": 18,
   "metadata": {},
   "outputs": [
    {
     "data": {
      "text/html": [
       "<div>\n",
       "<style scoped>\n",
       "    .dataframe tbody tr th:only-of-type {\n",
       "        vertical-align: middle;\n",
       "    }\n",
       "\n",
       "    .dataframe tbody tr th {\n",
       "        vertical-align: top;\n",
       "    }\n",
       "\n",
       "    .dataframe thead th {\n",
       "        text-align: right;\n",
       "    }\n",
       "</style>\n",
       "<table border=\"1\" class=\"dataframe\">\n",
       "  <thead>\n",
       "    <tr style=\"text-align: right;\">\n",
       "      <th></th>\n",
       "      <th>maximum_nights</th>\n",
       "    </tr>\n",
       "  </thead>\n",
       "  <tbody>\n",
       "    <tr>\n",
       "      <th>count</th>\n",
       "      <td>2.445100e+04</td>\n",
       "    </tr>\n",
       "    <tr>\n",
       "      <th>mean</th>\n",
       "      <td>9.213641e+04</td>\n",
       "    </tr>\n",
       "    <tr>\n",
       "      <th>std</th>\n",
       "      <td>1.374554e+07</td>\n",
       "    </tr>\n",
       "    <tr>\n",
       "      <th>min</th>\n",
       "      <td>1.400000e+01</td>\n",
       "    </tr>\n",
       "    <tr>\n",
       "      <th>25%</th>\n",
       "      <td>3.000000e+01</td>\n",
       "    </tr>\n",
       "    <tr>\n",
       "      <th>50%</th>\n",
       "      <td>1.125000e+03</td>\n",
       "    </tr>\n",
       "    <tr>\n",
       "      <th>75%</th>\n",
       "      <td>1.125000e+03</td>\n",
       "    </tr>\n",
       "    <tr>\n",
       "      <th>max</th>\n",
       "      <td>2.147484e+09</td>\n",
       "    </tr>\n",
       "  </tbody>\n",
       "</table>\n",
       "</div>"
      ],
      "text/plain": [
       "       maximum_nights\n",
       "count    2.445100e+04\n",
       "mean     9.213641e+04\n",
       "std      1.374554e+07\n",
       "min      1.400000e+01\n",
       "25%      3.000000e+01\n",
       "50%      1.125000e+03\n",
       "75%      1.125000e+03\n",
       "max      2.147484e+09"
      ]
     },
     "execution_count": 18,
     "metadata": {},
     "output_type": "execute_result"
    }
   ],
   "source": [
    "listings_target=listings_target[listings_target['maximum_nights']>=14]\n",
    "listings_target[['maximum_nights']].describe()"
   ]
  },
  {
   "cell_type": "markdown",
   "metadata": {},
   "source": [
    "Finally, let's filter for private room and private bath. Lets start investigating columns 'property_type', 'room_type'. Room type seems to carry desired info:"
   ]
  },
  {
   "cell_type": "code",
   "execution_count": 19,
   "metadata": {},
   "outputs": [
    {
     "data": {
      "text/plain": [
       "Entire home/apt    22288\n",
       "Private room        2008\n",
       "Hotel room           110\n",
       "Shared room           45\n",
       "Name: room_type, dtype: int64"
      ]
     },
     "execution_count": 19,
     "metadata": {},
     "output_type": "execute_result"
    }
   ],
   "source": [
    "listings_target['room_type'].value_counts()"
   ]
  },
  {
   "cell_type": "code",
   "execution_count": 20,
   "metadata": {},
   "outputs": [
    {
     "data": {
      "text/plain": [
       "Entire home/apt    22288\n",
       "Private room        2008\n",
       "Hotel room           110\n",
       "Name: room_type, dtype: int64"
      ]
     },
     "execution_count": 20,
     "metadata": {},
     "output_type": "execute_result"
    }
   ],
   "source": [
    "listings_target=listings_target[listings_target['room_type']!=\"Shared room\"]\n",
    "listings_target['room_type'].value_counts()"
   ]
  },
  {
   "cell_type": "markdown",
   "metadata": {},
   "source": [
    "For bathrooms requirements, promising columns are 'bathrooms', 'bathrooms_text'. Unfortunately 'bathrooms' column is not compiled, and the info is in bathroom text:"
   ]
  },
  {
   "cell_type": "code",
   "execution_count": 21,
   "metadata": {},
   "outputs": [
    {
     "name": "stdout",
     "output_type": "stream",
     "text": [
      "<class 'pandas.core.frame.DataFrame'>\n",
      "Int64Index: 24406 entries, 0 to 49656\n",
      "Data columns (total 2 columns):\n",
      " #   Column          Non-Null Count  Dtype  \n",
      "---  ------          --------------  -----  \n",
      " 0   bathrooms       0 non-null      float64\n",
      " 1   bathrooms_text  24402 non-null  object \n",
      "dtypes: float64(1), object(1)\n",
      "memory usage: 572.0+ KB\n"
     ]
    }
   ],
   "source": [
    "listings_target[['bathrooms','bathrooms_text']].info()"
   ]
  },
  {
   "cell_type": "code",
   "execution_count": 22,
   "metadata": {},
   "outputs": [
    {
     "data": {
      "text/plain": [
       "1 bath               11832\n",
       "2 baths               6555\n",
       "3 baths               1624\n",
       "1.5 baths             1146\n",
       "1 private bath         796\n",
       "4 baths                649\n",
       "2.5 baths              556\n",
       "5 baths                312\n",
       "1 shared bath          180\n",
       "3.5 baths              166\n",
       "6 baths                128\n",
       "4.5 baths               85\n",
       "2 shared baths          66\n",
       "7 baths                 50\n",
       "5.5 baths               34\n",
       "8 baths                 25\n",
       "1.5 shared baths        24\n",
       "3 shared baths          23\n",
       "10 baths                21\n",
       "7.5 baths               16\n",
       "6.5 baths               15\n",
       "0 baths                 14\n",
       "9 baths                 12\n",
       "2.5 shared baths        11\n",
       "4 shared baths          10\n",
       "5 shared baths           9\n",
       "Half-bath                6\n",
       "11 baths                 5\n",
       "3.5 shared baths         5\n",
       "7 shared baths           4\n",
       "8.5 baths                3\n",
       "0 shared baths           3\n",
       "5.5 shared baths         3\n",
       "4.5 shared baths         3\n",
       "10.5 baths               2\n",
       "15 baths                 2\n",
       "9.5 baths                2\n",
       "Shared half-bath         2\n",
       "9 shared baths           1\n",
       "12 baths                 1\n",
       "Private half-bath        1\n",
       "Name: bathrooms_text, dtype: int64"
      ]
     },
     "execution_count": 22,
     "metadata": {},
     "output_type": "execute_result"
    }
   ],
   "source": [
    "listings_target['bathrooms_text'].value_counts()"
   ]
  },
  {
   "cell_type": "markdown",
   "metadata": {},
   "source": [
    "Looking at column content, we can proceed as follow: \n",
    "- we extract the numerical information in the initial substring of 'bathroom_text' and store it as a float in the 'bathroom' column\n",
    "- we create a new column named 'private bathroom' storing boleean values based on the presence of the keyword 'shared' in the text description  \n",
    "Note that three cases where description doesn't start with a number must be treated separately. Considering text, we will set them to 0."
   ]
  },
  {
   "cell_type": "code",
   "execution_count": 23,
   "metadata": {},
   "outputs": [],
   "source": [
    "def count_bath(x):\n",
    "    bath=str(x).split(' ')[0]\n",
    "    try:\n",
    "        bath_number=float(bath)\n",
    "    except:\n",
    "        bath_number=0\n",
    "    return bath_number\n",
    "\n",
    "def not_shared_bath(x):\n",
    "    bath=str(x).split(' ')\n",
    "    return not(('shared' in bath) or ('Shared' in bath) or ('SHARED' in bath)) \n",
    "\n",
    "listings_target['bathrooms']=listings_target['bathrooms_text'].apply(lambda x: count_bath(x)) \n",
    "listings_target['private bath']=listings_target['bathrooms_text'].apply(lambda x: not_shared_bath(x)) \n",
    "listings['bathrooms']=listings['bathrooms_text'].apply(lambda x: count_bath(x)) \n",
    "listings['private bath']=listings['bathrooms_text'].apply(lambda x: not_shared_bath(x)) \n"
   ]
  },
  {
   "cell_type": "code",
   "execution_count": 24,
   "metadata": {
    "scrolled": true
   },
   "outputs": [
    {
     "data": {
      "text/plain": [
       "1.0     12808\n",
       "2.0      6621\n",
       "3.0      1647\n",
       "1.5      1170\n",
       "4.0       659\n",
       "2.5       567\n",
       "5.0       321\n",
       "3.5       171\n",
       "6.0       128\n",
       "4.5        88\n",
       "7.0        54\n",
       "5.5        37\n",
       "0.0        26\n",
       "8.0        25\n",
       "10.0       21\n",
       "7.5        16\n",
       "6.5        15\n",
       "9.0        13\n",
       "11.0        5\n",
       "8.5         3\n",
       "9.5         2\n",
       "15.0        2\n",
       "10.5        2\n",
       "12.0        1\n",
       "Name: bathrooms, dtype: int64"
      ]
     },
     "execution_count": 24,
     "metadata": {},
     "output_type": "execute_result"
    }
   ],
   "source": [
    "listings_target['bathrooms'].value_counts()"
   ]
  },
  {
   "cell_type": "code",
   "execution_count": 25,
   "metadata": {},
   "outputs": [
    {
     "data": {
      "text/plain": [
       "True     24062\n",
       "False      344\n",
       "Name: private bath, dtype: int64"
      ]
     },
     "execution_count": 25,
     "metadata": {},
     "output_type": "execute_result"
    }
   ],
   "source": [
    "listings_target['private bath'].value_counts()"
   ]
  },
  {
   "cell_type": "markdown",
   "metadata": {},
   "source": [
    "so we finally have the list of accomodation satysfying mandatory requirement; luckily, the list is till large enough to allow some statistics and we still are within budget constraints (75 percentile is now \\$120)."
   ]
  },
  {
   "cell_type": "code",
   "execution_count": 26,
   "metadata": {},
   "outputs": [],
   "source": [
    "listings_target=listings_target[listings_target['private bath']]\n",
    "listings_target=listings_target[listings_target['bathrooms']>0]"
   ]
  },
  {
   "cell_type": "code",
   "execution_count": 27,
   "metadata": {},
   "outputs": [
    {
     "data": {
      "text/html": [
       "<div>\n",
       "<style scoped>\n",
       "    .dataframe tbody tr th:only-of-type {\n",
       "        vertical-align: middle;\n",
       "    }\n",
       "\n",
       "    .dataframe tbody tr th {\n",
       "        vertical-align: top;\n",
       "    }\n",
       "\n",
       "    .dataframe thead th {\n",
       "        text-align: right;\n",
       "    }\n",
       "</style>\n",
       "<table border=\"1\" class=\"dataframe\">\n",
       "  <thead>\n",
       "    <tr style=\"text-align: right;\">\n",
       "      <th></th>\n",
       "      <th>id</th>\n",
       "      <th>neighbourhood_group_cleansed</th>\n",
       "      <th>accommodates</th>\n",
       "      <th>bathrooms</th>\n",
       "      <th>bedrooms</th>\n",
       "      <th>beds</th>\n",
       "      <th>price</th>\n",
       "      <th>minimum_nights</th>\n",
       "      <th>maximum_nights</th>\n",
       "      <th>calendar_updated</th>\n",
       "      <th>...</th>\n",
       "      <th>number_of_reviews_ltm</th>\n",
       "      <th>number_of_reviews_l30d</th>\n",
       "      <th>review_scores_rating</th>\n",
       "      <th>review_scores_accuracy</th>\n",
       "      <th>review_scores_cleanliness</th>\n",
       "      <th>review_scores_checkin</th>\n",
       "      <th>review_scores_communication</th>\n",
       "      <th>review_scores_location</th>\n",
       "      <th>review_scores_value</th>\n",
       "      <th>reviews_per_month</th>\n",
       "    </tr>\n",
       "  </thead>\n",
       "  <tbody>\n",
       "    <tr>\n",
       "      <th>count</th>\n",
       "      <td>2.403700e+04</td>\n",
       "      <td>0.0</td>\n",
       "      <td>24037.000000</td>\n",
       "      <td>24037.000000</td>\n",
       "      <td>23782.000000</td>\n",
       "      <td>24037.000000</td>\n",
       "      <td>24037.000000</td>\n",
       "      <td>24037.000000</td>\n",
       "      <td>2.403700e+04</td>\n",
       "      <td>0.0</td>\n",
       "      <td>...</td>\n",
       "      <td>24037.000000</td>\n",
       "      <td>24037.000000</td>\n",
       "      <td>14834.000000</td>\n",
       "      <td>14821.000000</td>\n",
       "      <td>14827.000000</td>\n",
       "      <td>14812.000000</td>\n",
       "      <td>14815.000000</td>\n",
       "      <td>14811.000000</td>\n",
       "      <td>14812.000000</td>\n",
       "      <td>15283.000000</td>\n",
       "    </tr>\n",
       "    <tr>\n",
       "      <th>mean</th>\n",
       "      <td>2.422956e+07</td>\n",
       "      <td>NaN</td>\n",
       "      <td>5.918542</td>\n",
       "      <td>1.707430</td>\n",
       "      <td>2.428097</td>\n",
       "      <td>4.368266</td>\n",
       "      <td>105.664018</td>\n",
       "      <td>3.568707</td>\n",
       "      <td>9.371207e+04</td>\n",
       "      <td>NaN</td>\n",
       "      <td>...</td>\n",
       "      <td>1.129592</td>\n",
       "      <td>0.010900</td>\n",
       "      <td>93.482608</td>\n",
       "      <td>9.524931</td>\n",
       "      <td>9.501990</td>\n",
       "      <td>9.761005</td>\n",
       "      <td>9.733581</td>\n",
       "      <td>9.427588</td>\n",
       "      <td>9.327370</td>\n",
       "      <td>0.355335</td>\n",
       "    </tr>\n",
       "    <tr>\n",
       "      <th>std</th>\n",
       "      <td>1.406174e+07</td>\n",
       "      <td>NaN</td>\n",
       "      <td>2.316493</td>\n",
       "      <td>1.069435</td>\n",
       "      <td>1.134208</td>\n",
       "      <td>1.935666</td>\n",
       "      <td>102.785295</td>\n",
       "      <td>9.280605</td>\n",
       "      <td>1.386341e+07</td>\n",
       "      <td>NaN</td>\n",
       "      <td>...</td>\n",
       "      <td>2.987739</td>\n",
       "      <td>0.132054</td>\n",
       "      <td>9.608272</td>\n",
       "      <td>0.986482</td>\n",
       "      <td>0.987945</td>\n",
       "      <td>0.770286</td>\n",
       "      <td>0.821584</td>\n",
       "      <td>0.960358</td>\n",
       "      <td>1.053417</td>\n",
       "      <td>0.552909</td>\n",
       "    </tr>\n",
       "    <tr>\n",
       "      <th>min</th>\n",
       "      <td>7.011000e+03</td>\n",
       "      <td>NaN</td>\n",
       "      <td>1.000000</td>\n",
       "      <td>1.000000</td>\n",
       "      <td>1.000000</td>\n",
       "      <td>3.000000</td>\n",
       "      <td>9.000000</td>\n",
       "      <td>1.000000</td>\n",
       "      <td>1.400000e+01</td>\n",
       "      <td>NaN</td>\n",
       "      <td>...</td>\n",
       "      <td>0.000000</td>\n",
       "      <td>0.000000</td>\n",
       "      <td>20.000000</td>\n",
       "      <td>2.000000</td>\n",
       "      <td>2.000000</td>\n",
       "      <td>2.000000</td>\n",
       "      <td>2.000000</td>\n",
       "      <td>2.000000</td>\n",
       "      <td>2.000000</td>\n",
       "      <td>0.010000</td>\n",
       "    </tr>\n",
       "    <tr>\n",
       "      <th>25%</th>\n",
       "      <td>1.294126e+07</td>\n",
       "      <td>NaN</td>\n",
       "      <td>4.000000</td>\n",
       "      <td>1.000000</td>\n",
       "      <td>2.000000</td>\n",
       "      <td>3.000000</td>\n",
       "      <td>50.000000</td>\n",
       "      <td>2.000000</td>\n",
       "      <td>3.000000e+01</td>\n",
       "      <td>NaN</td>\n",
       "      <td>...</td>\n",
       "      <td>0.000000</td>\n",
       "      <td>0.000000</td>\n",
       "      <td>90.000000</td>\n",
       "      <td>9.000000</td>\n",
       "      <td>9.000000</td>\n",
       "      <td>10.000000</td>\n",
       "      <td>10.000000</td>\n",
       "      <td>9.000000</td>\n",
       "      <td>9.000000</td>\n",
       "      <td>0.070000</td>\n",
       "    </tr>\n",
       "    <tr>\n",
       "      <th>50%</th>\n",
       "      <td>2.414338e+07</td>\n",
       "      <td>NaN</td>\n",
       "      <td>6.000000</td>\n",
       "      <td>1.000000</td>\n",
       "      <td>2.000000</td>\n",
       "      <td>4.000000</td>\n",
       "      <td>75.000000</td>\n",
       "      <td>3.000000</td>\n",
       "      <td>1.125000e+03</td>\n",
       "      <td>NaN</td>\n",
       "      <td>...</td>\n",
       "      <td>0.000000</td>\n",
       "      <td>0.000000</td>\n",
       "      <td>96.000000</td>\n",
       "      <td>10.000000</td>\n",
       "      <td>10.000000</td>\n",
       "      <td>10.000000</td>\n",
       "      <td>10.000000</td>\n",
       "      <td>10.000000</td>\n",
       "      <td>10.000000</td>\n",
       "      <td>0.160000</td>\n",
       "    </tr>\n",
       "    <tr>\n",
       "      <th>75%</th>\n",
       "      <td>3.590961e+07</td>\n",
       "      <td>NaN</td>\n",
       "      <td>7.000000</td>\n",
       "      <td>2.000000</td>\n",
       "      <td>3.000000</td>\n",
       "      <td>5.000000</td>\n",
       "      <td>120.000000</td>\n",
       "      <td>4.000000</td>\n",
       "      <td>1.125000e+03</td>\n",
       "      <td>NaN</td>\n",
       "      <td>...</td>\n",
       "      <td>1.000000</td>\n",
       "      <td>0.000000</td>\n",
       "      <td>100.000000</td>\n",
       "      <td>10.000000</td>\n",
       "      <td>10.000000</td>\n",
       "      <td>10.000000</td>\n",
       "      <td>10.000000</td>\n",
       "      <td>10.000000</td>\n",
       "      <td>10.000000</td>\n",
       "      <td>0.400000</td>\n",
       "    </tr>\n",
       "    <tr>\n",
       "      <th>max</th>\n",
       "      <td>4.888828e+07</td>\n",
       "      <td>NaN</td>\n",
       "      <td>16.000000</td>\n",
       "      <td>15.000000</td>\n",
       "      <td>14.000000</td>\n",
       "      <td>66.000000</td>\n",
       "      <td>999.000000</td>\n",
       "      <td>1000.000000</td>\n",
       "      <td>2.147484e+09</td>\n",
       "      <td>NaN</td>\n",
       "      <td>...</td>\n",
       "      <td>63.000000</td>\n",
       "      <td>5.000000</td>\n",
       "      <td>100.000000</td>\n",
       "      <td>10.000000</td>\n",
       "      <td>10.000000</td>\n",
       "      <td>10.000000</td>\n",
       "      <td>10.000000</td>\n",
       "      <td>10.000000</td>\n",
       "      <td>10.000000</td>\n",
       "      <td>8.160000</td>\n",
       "    </tr>\n",
       "  </tbody>\n",
       "</table>\n",
       "<p>8 rows × 25 columns</p>\n",
       "</div>"
      ],
      "text/plain": [
       "                 id  neighbourhood_group_cleansed  accommodates     bathrooms  \\\n",
       "count  2.403700e+04                           0.0  24037.000000  24037.000000   \n",
       "mean   2.422956e+07                           NaN      5.918542      1.707430   \n",
       "std    1.406174e+07                           NaN      2.316493      1.069435   \n",
       "min    7.011000e+03                           NaN      1.000000      1.000000   \n",
       "25%    1.294126e+07                           NaN      4.000000      1.000000   \n",
       "50%    2.414338e+07                           NaN      6.000000      1.000000   \n",
       "75%    3.590961e+07                           NaN      7.000000      2.000000   \n",
       "max    4.888828e+07                           NaN     16.000000     15.000000   \n",
       "\n",
       "           bedrooms          beds         price  minimum_nights  \\\n",
       "count  23782.000000  24037.000000  24037.000000    24037.000000   \n",
       "mean       2.428097      4.368266    105.664018        3.568707   \n",
       "std        1.134208      1.935666    102.785295        9.280605   \n",
       "min        1.000000      3.000000      9.000000        1.000000   \n",
       "25%        2.000000      3.000000     50.000000        2.000000   \n",
       "50%        2.000000      4.000000     75.000000        3.000000   \n",
       "75%        3.000000      5.000000    120.000000        4.000000   \n",
       "max       14.000000     66.000000    999.000000     1000.000000   \n",
       "\n",
       "       maximum_nights  calendar_updated  ...  number_of_reviews_ltm  \\\n",
       "count    2.403700e+04               0.0  ...           24037.000000   \n",
       "mean     9.371207e+04               NaN  ...               1.129592   \n",
       "std      1.386341e+07               NaN  ...               2.987739   \n",
       "min      1.400000e+01               NaN  ...               0.000000   \n",
       "25%      3.000000e+01               NaN  ...               0.000000   \n",
       "50%      1.125000e+03               NaN  ...               0.000000   \n",
       "75%      1.125000e+03               NaN  ...               1.000000   \n",
       "max      2.147484e+09               NaN  ...              63.000000   \n",
       "\n",
       "       number_of_reviews_l30d  review_scores_rating  review_scores_accuracy  \\\n",
       "count            24037.000000          14834.000000            14821.000000   \n",
       "mean                 0.010900             93.482608                9.524931   \n",
       "std                  0.132054              9.608272                0.986482   \n",
       "min                  0.000000             20.000000                2.000000   \n",
       "25%                  0.000000             90.000000                9.000000   \n",
       "50%                  0.000000             96.000000               10.000000   \n",
       "75%                  0.000000            100.000000               10.000000   \n",
       "max                  5.000000            100.000000               10.000000   \n",
       "\n",
       "       review_scores_cleanliness  review_scores_checkin  \\\n",
       "count               14827.000000           14812.000000   \n",
       "mean                    9.501990               9.761005   \n",
       "std                     0.987945               0.770286   \n",
       "min                     2.000000               2.000000   \n",
       "25%                     9.000000              10.000000   \n",
       "50%                    10.000000              10.000000   \n",
       "75%                    10.000000              10.000000   \n",
       "max                    10.000000              10.000000   \n",
       "\n",
       "       review_scores_communication  review_scores_location  \\\n",
       "count                 14815.000000            14811.000000   \n",
       "mean                      9.733581                9.427588   \n",
       "std                       0.821584                0.960358   \n",
       "min                       2.000000                2.000000   \n",
       "25%                      10.000000                9.000000   \n",
       "50%                      10.000000               10.000000   \n",
       "75%                      10.000000               10.000000   \n",
       "max                      10.000000               10.000000   \n",
       "\n",
       "       review_scores_value  reviews_per_month  \n",
       "count         14812.000000       15283.000000  \n",
       "mean              9.327370           0.355335  \n",
       "std               1.053417           0.552909  \n",
       "min               2.000000           0.010000  \n",
       "25%               9.000000           0.070000  \n",
       "50%              10.000000           0.160000  \n",
       "75%              10.000000           0.400000  \n",
       "max              10.000000           8.160000  \n",
       "\n",
       "[8 rows x 25 columns]"
      ]
     },
     "execution_count": 27,
     "metadata": {},
     "output_type": "execute_result"
    }
   ],
   "source": [
    "listings_target.describe()"
   ]
  },
  {
   "cell_type": "markdown",
   "metadata": {},
   "source": [
    "Before trying to answer to first question, we also need to have the info ready to address 'negotiable preferences', namely second bedroom, second bathroom, some review and good review rating.\n",
    "\n",
    "For second bedroom and bathroom we already have numerical values ready:"
   ]
  },
  {
   "cell_type": "code",
   "execution_count": 28,
   "metadata": {},
   "outputs": [
    {
     "data": {
      "text/plain": [
       "<AxesSubplot:>"
      ]
     },
     "execution_count": 28,
     "metadata": {},
     "output_type": "execute_result"
    },
    {
     "data": {
      "image/png": "[encoded data removed]",
      "text/plain": [
       "<Figure size 432x288 with 1 Axes>"
      ]
     },
     "metadata": {
      "needs_background": "light"
     },
     "output_type": "display_data"
    }
   ],
   "source": [
    "listings_target['bedrooms'].hist(bins=15)"
   ]
  },
  {
   "cell_type": "markdown",
   "metadata": {},
   "source": [
    "For number of reviews, we also have numerical, ready to go columns (number_of_reviews, number_of_reviews_l30d). As we can see in the graph below, ratings columns is also available with numerical variable ranging from 0 to 100); in this case we have a number of NaN, corresponding to accomodation who didn't receive any rating."
   ]
  },
  {
   "cell_type": "code",
   "execution_count": 29,
   "metadata": {},
   "outputs": [
    {
     "data": {
      "text/plain": [
       "<AxesSubplot:>"
      ]
     },
     "execution_count": 29,
     "metadata": {},
     "output_type": "execute_result"
    },
    {
     "data": {
      "image/png": "[encoded data removed]",
      "text/plain": [
       "<Figure size 432x288 with 1 Axes>"
      ]
     },
     "metadata": {
      "needs_background": "light"
     },
     "output_type": "display_data"
    }
   ],
   "source": [
    "listings_target['review_scores_rating'].hist(bins=100)"
   ]
  },
  {
   "cell_type": "markdown",
   "metadata": {},
   "source": [
    "## Step 3b: addressing questions"
   ]
  },
  {
   "cell_type": "markdown",
   "metadata": {},
   "source": [
    "#### Question 1:\n",
    "Do we see 75 percent of listings at a cost lower than \\$143 per night, once we have filtered for mandatory requirements? Can we accomodate in the budget limit also  negotiable ones? Among negotiable parameters, which are the ones with higher positive correlation with costs?  "
   ]
  },
  {
   "cell_type": "markdown",
   "metadata": {},
   "source": [
    "Following plots shows price distribution for mandatory requirement"
   ]
  },
  {
   "cell_type": "code",
   "execution_count": 30,
   "metadata": {},
   "outputs": [
    {
     "data": {
      "text/plain": [
       "Text(162.85714285714286, 0.8135374630777551, '81% of listings are within budget')"
      ]
     },
     "execution_count": 30,
     "metadata": {},
     "output_type": "execute_result"
    },
    {
     "data": {
      "image/png": "[encoded data removed]",
      "text/plain": [
       "<Figure size 1080x576 with 1 Axes>"
      ]
     },
     "metadata": {
      "needs_background": "light"
     },
     "output_type": "display_data"
    }
   ],
   "source": [
    "target_per_night=2000/14\n",
    "percent_within_budget=listings_target[listings_target['price']<=target_per_night]['price'].count()/listings_target['price'].count()\n",
    "percentile75= listings_target['price'].describe()['75%']\n",
    "fig, ax = plt.subplots()\n",
    "fig.set_size_inches(15,8)\n",
    "sns.ecdfplot(data=listings_target, ax=ax, x=\"price\")\n",
    "ax.annotate('75% of listings have a daily price lower than \\${}'.format(percentile75), xy=(percentile75+20, .75))\n",
    "ax.annotate('{0:.0%} of listings are within budget'.format(percent_within_budget), xy=(target_per_night+20, percent_within_budget))\n"
   ]
  },
  {
   "cell_type": "code",
   "execution_count": 31,
   "metadata": {},
   "outputs": [
    {
     "data": {
      "text/plain": [
       "<AxesSubplot:xlabel='price'>"
      ]
     },
     "execution_count": 31,
     "metadata": {},
     "output_type": "execute_result"
    },
    {
     "data": {
      "image/png": "[encoded data removed]",
      "text/plain": [
       "<Figure size 1080x576 with 1 Axes>"
      ]
     },
     "metadata": {
      "needs_background": "light"
     },
     "output_type": "display_data"
    }
   ],
   "source": [
    "fig, ax = plt.subplots()\n",
    "fig.set_size_inches(15,8)\n",
    "sns.boxplot(data=listings_target, ax=ax, x=\"price\")\n"
   ]
  },
  {
   "cell_type": "markdown",
   "metadata": {},
   "source": [
    "Now we derive a new dataframe 'listings_target_negot', containing all structure satisfying both mandatory and negotiable requirements. After this step, we will plot distribution of price variables in the three cases (all listings, only mandatory req, all requirements)"
   ]
  },
  {
   "cell_type": "code",
   "execution_count": 32,
   "metadata": {},
   "outputs": [
    {
     "name": "stdout",
     "output_type": "stream",
     "text": [
      "           All data       Mandat.       Negot.\n",
      "count  49479.000000  24037.000000  5293.000000\n",
      "mean      85.279492    105.664018   125.583034\n",
      "std       82.564741    102.785295   107.276501\n",
      "min        9.000000      9.000000    11.000000\n",
      "25%       45.000000     50.000000    60.000000\n",
      "50%       60.000000     75.000000    90.000000\n",
      "75%       95.000000    120.000000   150.000000\n",
      "max      999.000000    999.000000   999.000000\n"
     ]
    }
   ],
   "source": [
    "listings_target_negot=listings_target[listings_target['bathrooms']>1]\n",
    "listings_target_negot=listings_target_negot[listings_target_negot['bedrooms']>1]\n",
    "listings_target_negot=listings_target_negot[listings_target_negot['review_scores_rating']>90]\n",
    "results=pd.concat([listings['price'].describe().rename('All data'),listings_target['price'].describe().rename('Mandat.')], axis=1)\n",
    "results=pd.concat([results,listings_target_negot['price'].describe().rename('Negot.')], axis=1)\n",
    "print(results)"
   ]
  },
  {
   "cell_type": "code",
   "execution_count": 33,
   "metadata": {},
   "outputs": [
    {
     "data": {
      "text/plain": [
       "<matplotlib.legend.Legend at 0xa26bfb5b20>"
      ]
     },
     "execution_count": 33,
     "metadata": {},
     "output_type": "execute_result"
    },
    {
     "data": {
      "image/png": "[encoded data removed]",
      "text/plain": [
       "<Figure size 1080x576 with 1 Axes>"
      ]
     },
     "metadata": {
      "needs_background": "light"
     },
     "output_type": "display_data"
    }
   ],
   "source": [
    "fig, ax = plt.subplots()\n",
    "fig.set_size_inches(15,8)\n",
    "sns.kdeplot(data=listings, ax=ax, x=\"price\", label='All data')\n",
    "sns.kdeplot(data=listings_target, ax=ax, x=\"price\", label='Mandatory req')\n",
    "sns.kdeplot(data=listings_target_negot, ax=ax, x=\"price\", label='Negotiable req')\n",
    "plt.legend()"
   ]
  },
  {
   "cell_type": "code",
   "execution_count": 34,
   "metadata": {
    "scrolled": true
   },
   "outputs": [
    {
     "data": {
      "text/plain": [
       "<matplotlib.legend.Legend at 0xa26dfccdc0>"
      ]
     },
     "execution_count": 34,
     "metadata": {},
     "output_type": "execute_result"
    },
    {
     "data": {
      "image/png": "[encoded data removed]",
      "text/plain": [
       "<Figure size 1080x432 with 1 Axes>"
      ]
     },
     "metadata": {
      "needs_background": "light"
     },
     "output_type": "display_data"
    }
   ],
   "source": [
    "fig, ax = plt.subplots()\n",
    "fig.set_size_inches(15,6)\n",
    "perc75_all= listings['price'].describe()['75%']\n",
    "perc75_man= listings_target['price'].describe()['75%']\n",
    "perc75_neg= listings_target_negot['price'].describe()['75%']\n",
    "number_within_budget=listings_target_negot[listings_target_negot['price']<=target_per_night]['price'].count()\n",
    "percent_within_budget=number_within_budget/listings_target_negot['price'].count()\n",
    "sns.ecdfplot(data=listings, ax=ax, x=\"price\", label='All data')\n",
    "sns.ecdfplot(data=listings_target, ax=ax, x=\"price\", label='Mandatory req')\n",
    "sns.ecdfplot(data=listings_target_negot, ax=ax, x=\"price\", label='Negotiable req')\n",
    "ax.annotate('75% percentile values', xy=(200, .6))\n",
    "ax.annotate('All listings:    {}'.format(perc75_all), xy=(200, .55))\n",
    "ax.annotate('+ Mand. req.:    {}'.format(perc75_man), xy=(200, .5))\n",
    "ax.annotate('+ All. req.:   {}'.format(perc75_neg), xy=(200, .45))\n",
    "ax.annotate('Percentage of listings fitting all requirements is {0:.0%}'.format(percent_within_budget), xy=(200, .30))\n",
    "ax.annotate('Number of listings and below budget is {}'.format(number_within_budget), xy=(200, .25))\n",
    "ax.set(xlim=(10, 1000))\n",
    "ax.plot([target_per_night, target_per_night],[0,1], color='red',linewidth=1)\n",
    "ax.plot([0, 1000],[0.75,.75], color='red',linewidth=1)\n",
    "plt.legend()\n"
   ]
  },
  {
   "cell_type": "markdown",
   "metadata": {},
   "source": [
    "As we can see from the pictures, after inclusion of all additional requirements we are hitting our budget targets as only 72% of the listings are below target, while requirements was 75% (75 percentile is now at\\$ 150).\n",
    "\n",
    "Let's have a look statistical correlation of the additional parameters to price. To start this task, we consider a smaller dataframe including only columns of interest for the task."
   ]
  },
  {
   "cell_type": "code",
   "execution_count": 35,
   "metadata": {},
   "outputs": [],
   "source": [
    "reduced_list=['id', 'bathrooms', 'bedrooms',  'price',  'number_of_reviews', 'review_scores_rating']\n",
    "listings_corr=listings_target[reduced_list]"
   ]
  },
  {
   "cell_type": "code",
   "execution_count": 36,
   "metadata": {},
   "outputs": [
    {
     "data": {
      "text/plain": [
       "<seaborn.axisgrid.PairGrid at 0xa26dfb4400>"
      ]
     },
     "execution_count": 36,
     "metadata": {},
     "output_type": "execute_result"
    },
    {
     "data": {
      "image/png": "[encoded data removed]",
      "text/plain": [
       "<Figure size 720x180 with 4 Axes>"
      ]
     },
     "metadata": {
      "needs_background": "light"
     },
     "output_type": "display_data"
    }
   ],
   "source": [
    "sns.pairplot(data=listings_corr, x_vars=['bathrooms', 'bedrooms',  'number_of_reviews', 'review_scores_rating'], y_vars=['price'])"
   ]
  },
  {
   "cell_type": "code",
   "execution_count": 37,
   "metadata": {},
   "outputs": [
    {
     "data": {
      "text/plain": [
       "id                      0.110742\n",
       "bathrooms               0.545726\n",
       "bedrooms                0.487468\n",
       "price                   1.000000\n",
       "number_of_reviews      -0.115267\n",
       "review_scores_rating    0.076071\n",
       "Name: price, dtype: float64"
      ]
     },
     "execution_count": 37,
     "metadata": {},
     "output_type": "execute_result"
    }
   ],
   "source": [
    "listings_corr.corr()['price']"
   ]
  },
  {
   "cell_type": "code",
   "execution_count": 38,
   "metadata": {},
   "outputs": [
    {
     "data": {
      "text/plain": [
       "<AxesSubplot:>"
      ]
     },
     "execution_count": 38,
     "metadata": {},
     "output_type": "execute_result"
    },
    {
     "data": {
      "image/png": "[encoded data removed]",
      "text/plain": [
       "<Figure size 432x288 with 2 Axes>"
      ]
     },
     "metadata": {
      "needs_background": "light"
     },
     "output_type": "display_data"
    }
   ],
   "source": [
    "sns.heatmap(listings_corr.corr())"
   ]
  },
  {
   "cell_type": "markdown",
   "metadata": {},
   "source": [
    "As we can see form correlation matrix and from heatmap, the additional rooms have an higher positive correlation, and it seems that additional bathrooms have a bit higher value compared to additional bedrooms. Interestingly, increased rating doesn't translate directly into additional price (positive correlation is low), I guess becouse raters evaluates 'value for money' ratio and cheaper accomodation may receive positive feedback if they meet expectations."
   ]
  },
  {
   "cell_type": "markdown",
   "metadata": {},
   "source": [
    "#### Question 2:\n",
    "In second question, our traveler downloaded from the internet (e.g. from https://www.expedia.it/explore/mare-in-sicilia-le-20-localita-balneari-piu-belle) a list of top 20 recommendation for sites to be visited in Sicily, and is considering if adding as additional requirements the stay in one of these 20 locations and which of them is under budget constraints.   "
   ]
  },
  {
   "cell_type": "markdown",
   "metadata": {},
   "source": [
    "As a first step, let's cut and past top location list into the notebook"
   ]
  },
  {
   "cell_type": "code",
   "execution_count": 39,
   "metadata": {},
   "outputs": [],
   "source": [
    "expedia_recomm=set([\n",
    "\"Favignana\",\n",
    "\"Sciacca\",\n",
    "\"Mondello\",\n",
    "\"Lampedusa\",\n",
    "\"Altavilla Milicia\",\n",
    "\"San Vito Lo Capo\",\n",
    "\"Riserva dello Zingaro\",\n",
    "\"Realmonte\",\n",
    "\"Trapani\",\n",
    "\"Brucoli\",\n",
    "\"Giardini-Naxos\",\n",
    "\"Lipari\",\n",
    "\"Aci Trezza\",\n",
    "\"Pantelleria\",\n",
    "\"Riserva di Vendicari\",\n",
    "\"Marzamemi\",\n",
    "\"Cefalù\",\n",
    "\"Taormina\",\n",
    "\"Fontane Bianche\",\n",
    "\"Capo d'Orlando\"])"
   ]
  },
  {
   "cell_type": "markdown",
   "metadata": {},
   "source": [
    "The list of recommmendation must be matched with the column \"neighborhood_cleansed\" in the listing dataframe (the column neighboorhood is much more messy in used formats) . However, some manual change may be needed in the recommendation list to ensure proper matching. First, let's check if any recommendation is missing in the neighborhood list and possibly why."
   ]
  },
  {
   "cell_type": "code",
   "execution_count": 40,
   "metadata": {},
   "outputs": [],
   "source": [
    "locations=set(listings['neighbourhood_cleansed'].unique())"
   ]
  },
  {
   "cell_type": "code",
   "execution_count": 41,
   "metadata": {},
   "outputs": [],
   "source": [
    "both_lists=expedia_recomm.intersection(locations)\n",
    "missing=expedia_recomm-both_lists"
   ]
  },
  {
   "cell_type": "code",
   "execution_count": 42,
   "metadata": {},
   "outputs": [
    {
     "data": {
      "text/plain": [
       "11"
      ]
     },
     "execution_count": 42,
     "metadata": {},
     "output_type": "execute_result"
    }
   ],
   "source": [
    "len(both_lists)"
   ]
  },
  {
   "cell_type": "code",
   "execution_count": 43,
   "metadata": {},
   "outputs": [
    {
     "data": {
      "text/plain": [
       "{'Aci Trezza',\n",
       " 'Brucoli',\n",
       " 'Cefalù',\n",
       " 'Fontane Bianche',\n",
       " 'Lampedusa',\n",
       " 'Marzamemi',\n",
       " 'Mondello',\n",
       " 'Riserva dello Zingaro',\n",
       " 'Riserva di Vendicari'}"
      ]
     },
     "execution_count": 43,
     "metadata": {},
     "output_type": "execute_result"
    }
   ],
   "source": [
    "missing"
   ]
  },
  {
   "cell_type": "markdown",
   "metadata": {},
   "source": [
    "Missing localities are those not referring to an independent administrative unit (comune). The dictionary below create the needed matches"
   ]
  },
  {
   "cell_type": "code",
   "execution_count": 44,
   "metadata": {},
   "outputs": [],
   "source": [
    "d={'Aci Trezza':'Aci Castello',\n",
    " 'Brucoli':'Augusta',\n",
    " 'Cefalù':'Cefal',\n",
    " 'Fontane Bianche': 'Siracusa',\n",
    " 'Lampedusa':'Lampedusa e Linosa',\n",
    " 'Marzamemi':'Pachino',\n",
    " 'Mondello':'Palermo',\n",
    " 'Riserva dello Zingaro':'San Vito Lo Capo' ,\n",
    " 'Riserva di Vendicari':'Noto'}"
   ]
  },
  {
   "cell_type": "code",
   "execution_count": 45,
   "metadata": {},
   "outputs": [],
   "source": [
    "expedia_recomm_cleaned=expedia_recomm.union(set(d.values()))-set(d.keys())"
   ]
  },
  {
   "cell_type": "code",
   "execution_count": 46,
   "metadata": {},
   "outputs": [
    {
     "data": {
      "text/plain": [
       "19"
      ]
     },
     "execution_count": 46,
     "metadata": {},
     "output_type": "execute_result"
    }
   ],
   "source": [
    "len(expedia_recomm_cleaned)"
   ]
  },
  {
   "cell_type": "markdown",
   "metadata": {},
   "source": [
    "(We moved from 20 to 19 becouse two recommended locations were actually referring to the same administative unit)"
   ]
  },
  {
   "cell_type": "code",
   "execution_count": 47,
   "metadata": {},
   "outputs": [],
   "source": [
    "both_list=expedia_recomm_cleaned.intersection(locations)"
   ]
  },
  {
   "cell_type": "code",
   "execution_count": 48,
   "metadata": {},
   "outputs": [
    {
     "data": {
      "text/plain": [
       "19"
      ]
     },
     "execution_count": 48,
     "metadata": {},
     "output_type": "execute_result"
    }
   ],
   "source": [
    "len(both_list)"
   ]
  },
  {
   "cell_type": "markdown",
   "metadata": {},
   "source": [
    "Once we know that the list of recommmended localities matches a column in the dataframe, we can introduce in the dataframes some filtering options:"
   ]
  },
  {
   "cell_type": "code",
   "execution_count": 49,
   "metadata": {},
   "outputs": [
    {
     "name": "stderr",
     "output_type": "stream",
     "text": [
      "<ipython-input-49-5b9d05496696>:3: SettingWithCopyWarning: \n",
      "A value is trying to be set on a copy of a slice from a DataFrame\n",
      "\n",
      "See the caveats in the documentation: https://pandas.pydata.org/pandas-docs/stable/user_guide/indexing.html#returning-a-view-versus-a-copy\n",
      "  listings_target['recomm_neighbourood'][listings_target['recomm']==False]='Outside the list'\n"
     ]
    }
   ],
   "source": [
    "listings_target['recomm']=listings_target['neighbourhood_cleansed'].isin(list(expedia_recomm_cleaned)) #Boolen, True if in the list\n",
    "listings_target['recomm_neighbourood']=listings_target['neighbourhood_cleansed'] #either a top place or 'outside the list' label\n",
    "listings_target['recomm_neighbourood'][listings_target['recomm']==False]='Outside the list'\n"
   ]
  },
  {
   "cell_type": "code",
   "execution_count": 50,
   "metadata": {},
   "outputs": [
    {
     "data": {
      "text/plain": [
       "Outside the list      15078\n",
       "Palermo                1704\n",
       "Siracusa               1452\n",
       "Noto                    967\n",
       "San Vito Lo Capo        807\n",
       "Lipari                  568\n",
       "Cefal                   458\n",
       "Taormina                411\n",
       "Giardini-Naxos          354\n",
       "Trapani                 332\n",
       "Sciacca                 327\n",
       "Pachino                 273\n",
       "Pantelleria             247\n",
       "Augusta                 239\n",
       "Favignana               220\n",
       "Capo d'Orlando          164\n",
       "Aci Castello            137\n",
       "Lampedusa e Linosa      124\n",
       "Altavilla Milicia        96\n",
       "Realmonte                79\n",
       "Name: recomm_neighbourood, dtype: int64"
      ]
     },
     "execution_count": 50,
     "metadata": {},
     "output_type": "execute_result"
    }
   ],
   "source": [
    "listings_target['recomm_neighbourood'].value_counts()"
   ]
  },
  {
   "cell_type": "markdown",
   "metadata": {},
   "source": [
    "Let's look at the distribution of price per place (including an 'outside the list' category to map all locations outside top 20 )"
   ]
  },
  {
   "cell_type": "code",
   "execution_count": 51,
   "metadata": {},
   "outputs": [
    {
     "name": "stdout",
     "output_type": "stream",
     "text": [
      "Overall mean price: 105.66401797229271\n"
     ]
    },
    {
     "data": {
      "text/plain": [
       "recomm_neighbourood\n",
       "Pantelleria           163.376518\n",
       "Taormina              153.326034\n",
       "Lipari                147.561620\n",
       "Cefal                 139.971616\n",
       "Favignana             139.381818\n",
       "Noto                  131.819028\n",
       "Capo d'Orlando        129.347561\n",
       "Augusta               120.979079\n",
       "Altavilla Milicia     120.468750\n",
       "Lampedusa e Linosa    118.935484\n",
       "Siracusa              111.877410\n",
       "Aci Castello          106.437956\n",
       "Realmonte             101.797468\n",
       "Outside the list      101.559557\n",
       "San Vito Lo Capo       99.083024\n",
       "Pachino                93.263736\n",
       "Palermo                87.247066\n",
       "Giardini-Naxos         85.209040\n",
       "Trapani                82.707831\n",
       "Sciacca                79.149847\n",
       "Name: price, dtype: float64"
      ]
     },
     "execution_count": 51,
     "metadata": {},
     "output_type": "execute_result"
    }
   ],
   "source": [
    "print('Overall mean price: {}'.format(listings_target['price'].mean()))\n",
    "listings_target.groupby(by='recomm_neighbourood').mean().sort_values(by='price',ascending=False)['price']"
   ]
  },
  {
   "cell_type": "markdown",
   "metadata": {},
   "source": [
    "It seems that the list includes both expensive locations (Taormina, islands as Pantelleria, Lipari, Favignana) and lower -than-average ones (including bigger cities as Palermo and Trapani)"
   ]
  },
  {
   "cell_type": "markdown",
   "metadata": {},
   "source": [
    "For sake of curiosity, let's compare the list with top-10 highest average price location in our dataset (excluding those with less than 10 accomodations): "
   ]
  },
  {
   "cell_type": "code",
   "execution_count": 52,
   "metadata": {},
   "outputs": [
    {
     "data": {
      "text/plain": [
       "neighbourhood_cleansed\n",
       "Butera                   229.300000\n",
       "Paceco                   208.882353\n",
       "Viagrande                185.818182\n",
       "Buseto Palizzolo         175.022727\n",
       "Castelmola               173.611111\n",
       "Trecastagni              172.412281\n",
       "Salemi                   169.120000\n",
       "San Giovanni la Punta    166.176471\n",
       "Pantelleria              163.376518\n",
       "Chiaramonte Gulfi        160.457143\n",
       "Name: price, dtype: float64"
      ]
     },
     "execution_count": 52,
     "metadata": {},
     "output_type": "execute_result"
    }
   ],
   "source": [
    "mean_price= listings_target.groupby(by='neighbourhood_cleansed').mean()['price']\n",
    "list_count= listings_target.groupby(by='neighbourhood_cleansed').count()['id']\n",
    "price_and_count=pd.concat([mean_price,list_count], axis=1)\n",
    "price_and_count[price_and_count['id']>9]['price'].sort_values(ascending=False).head(10)"
   ]
  },
  {
   "cell_type": "markdown",
   "metadata": {},
   "source": [
    "Now, let's plot price distribution per location as a box plot and match the boxes against the target for max 75th percentile: "
   ]
  },
  {
   "cell_type": "code",
   "execution_count": 53,
   "metadata": {},
   "outputs": [
    {
     "data": {
      "text/plain": [
       "[<matplotlib.lines.Line2D at 0xa26bab6f40>]"
      ]
     },
     "execution_count": 53,
     "metadata": {},
     "output_type": "execute_result"
    },
    {
     "data": {
      "image/png": "[encoded data removed]",
      "text/plain": [
       "<Figure size 1080x576 with 1 Axes>"
      ]
     },
     "metadata": {
      "needs_background": "light"
     },
     "output_type": "display_data"
    }
   ],
   "source": [
    "order=listings_target.groupby(by='recomm_neighbourood').quantile(0.75).sort_values(by='price').index\n",
    "fig, ax = plt.subplots()\n",
    "fig.set_size_inches(15,8)\n",
    "plt.xticks(rotation=45)\n",
    "sns.boxplot(data=listings_target, ax=ax, x='recomm_neighbourood', y=\"price\", order=order)\n",
    "ax.plot(order, [target_per_night]*20, color='red',marker='o')"
   ]
  },
  {
   "cell_type": "markdown",
   "metadata": {},
   "source": [
    "As can be seen from the plot, 12 places out of the proposed 19 fall below the requested budget threshold; all the minor islands (Lampedusa, Favignana, Lipari and Pantelleria).\n",
    "Finally, let's provide the outcome of the inclusion of negotiable requirement on the graph above:"
   ]
  },
  {
   "cell_type": "code",
   "execution_count": 54,
   "metadata": {},
   "outputs": [
    {
     "data": {
      "text/plain": [
       "[<matplotlib.lines.Line2D at 0xa26bb507c0>]"
      ]
     },
     "execution_count": 54,
     "metadata": {},
     "output_type": "execute_result"
    },
    {
     "data": {
      "image/png": "[encoded data removed]",
      "text/plain": [
       "<Figure size 1080x576 with 1 Axes>"
      ]
     },
     "metadata": {
      "needs_background": "light"
     },
     "output_type": "display_data"
    }
   ],
   "source": [
    "listings_target_negot=listings_target[listings_target['bathrooms']>1]\n",
    "listings_target_negot=listings_target_negot[listings_target_negot['bedrooms']>1]\n",
    "listings_target_negot=listings_target_negot[listings_target_negot['review_scores_rating']>90]\n",
    "order=listings_target_negot.groupby(by='recomm_neighbourood').quantile(0.75).sort_values(by='price').index\n",
    "fig, ax = plt.subplots()\n",
    "fig.set_size_inches(15,8)\n",
    "plt.xticks(rotation=45)\n",
    "sns.boxplot(data=listings_target_negot, ax=ax, x='recomm_neighbourood', y=\"price\", order=order)\n",
    "ax.plot(order, [target_per_night]*20, color='red',marker='o')"
   ]
  },
  {
   "cell_type": "markdown",
   "metadata": {},
   "source": [
    "As visible from the graph, only 6 locations fall within budget constraints if we consider all proposed requirements"
   ]
  },
  {
   "cell_type": "markdown",
   "metadata": {},
   "source": [
    "## Question 3\n",
    "The last question is about budget forecast for a specific timeplan downloaded from https://www.voyagetips.com/it/itinerari-2-settimane-in-sicilia/, assumed to start on August 1st. Let's address it as a linear regression task"
   ]
  },
  {
   "cell_type": "markdown",
   "metadata": {},
   "source": [
    "As a starting point, let's download and store the time plan from the site (using cut & paste). \n",
    "\n",
    "1) Catania (2 nights)\n",
    "\n",
    "2) Siracusa (2 nights)\n",
    "\n",
    "3) Ragusa (1 nights)\n",
    "\n",
    "4) Agrigento (1 night)\n",
    "\n",
    "5) Selinunte (1 night)\n",
    "\n",
    "6) Trapani (2 nights)\n",
    "\n",
    "7) Scopello (1 night)\n",
    "\n",
    "8) Palermo (2 nights)\n",
    "\n",
    "9) Taormina (2 nights)"
   ]
  },
  {
   "cell_type": "markdown",
   "metadata": {},
   "source": [
    "The list below set the itinerary as a list of locations \n"
   ]
  },
  {
   "cell_type": "code",
   "execution_count": 55,
   "metadata": {},
   "outputs": [],
   "source": [
    "timelist=['Catania','Catania','Siracusa','Siracusa','Ragusa','Agrigento','Selinunte',\n",
    "          'Trapani','Trapani','Scopello','Palermo','Palermo','Taormina','Taormina']"
   ]
  },
  {
   "cell_type": "code",
   "execution_count": 56,
   "metadata": {},
   "outputs": [
    {
     "data": {
      "text/plain": [
       "{'Scopello', 'Selinunte'}"
      ]
     },
     "execution_count": 56,
     "metadata": {},
     "output_type": "execute_result"
    }
   ],
   "source": [
    "set(timelist)-locations"
   ]
  },
  {
   "cell_type": "markdown",
   "metadata": {},
   "source": [
    "Again, we have two recommended locations that do not correspond to administrative units. Let's fix it:"
   ]
  },
  {
   "cell_type": "code",
   "execution_count": 57,
   "metadata": {},
   "outputs": [
    {
     "data": {
      "text/plain": [
       "set()"
      ]
     },
     "execution_count": 57,
     "metadata": {},
     "output_type": "execute_result"
    }
   ],
   "source": [
    "timelist[6]='Castelvetrano'\n",
    "timelist[9]='Castellammare del Golfo'\n",
    "set(timelist)-locations"
   ]
  },
  {
   "cell_type": "markdown",
   "metadata": {},
   "source": [
    "As an exercise, we will try to use a linear regression model to forecast the cost of the accomodation for the travel.\n",
    "To build the model, we will create a modified dataset with the following columns:"
   ]
  },
  {
   "cell_type": "markdown",
   "metadata": {},
   "source": [
    "- listing_id: as in current df\n",
    "- day_plan: datetetime, ranging from August 1st to August 14th\n",
    "- price: price modified considering the value listed in the 'calendar' dataset (to accomodate for increase of price in high season\n",
    "- neighbourhood_cleansed: as in current df \n",
    "- bedrooms:  : as in current df\n",
    "- number of bathrooms: as in current df \n",
    "- private_room: Boolean\n",
    "- private_bathroom: Boolean \n",
    "- review_scores_rating: as in current df\n",
    "- minimum_nights: as in current df\n",
    "\n"
   ]
  },
  {
   "cell_type": "code",
   "execution_count": 58,
   "metadata": {},
   "outputs": [
    {
     "name": "stderr",
     "output_type": "stream",
     "text": [
      "<ipython-input-58-e16495fba981>:4: SettingWithCopyWarning: \n",
      "A value is trying to be set on a copy of a slice from a DataFrame.\n",
      "Try using .loc[row_indexer,col_indexer] = value instead\n",
      "\n",
      "See the caveats in the documentation: https://pandas.pydata.org/pandas-docs/stable/user_guide/indexing.html#returning-a-view-versus-a-copy\n",
      "  listings_short['private_room']=listings_short['room_type']!=\"Shared room\"\n",
      "C:\\Users\\Roberto\\anaconda3\\lib\\site-packages\\pandas\\core\\frame.py:4163: SettingWithCopyWarning: \n",
      "A value is trying to be set on a copy of a slice from a DataFrame\n",
      "\n",
      "See the caveats in the documentation: https://pandas.pydata.org/pandas-docs/stable/user_guide/indexing.html#returning-a-view-versus-a-copy\n",
      "  return super().drop(\n"
     ]
    }
   ],
   "source": [
    "listings_short=listings[['id','neighbourhood_cleansed','room_type','bedrooms','beds','bathrooms','private bath', \n",
    "                         'price', 'minimum_nights',  'review_scores_rating'\n",
    "                         ]]\n",
    "listings_short['private_room']=listings_short['room_type']!=\"Shared room\"\n",
    "listings_short.drop(columns='room_type',inplace=True)\n",
    "listings_short=listings_short[listings_short['neighbourhood_cleansed'].isin(timelist)]"
   ]
  },
  {
   "cell_type": "code",
   "execution_count": 59,
   "metadata": {},
   "outputs": [
    {
     "name": "stdout",
     "output_type": "stream",
     "text": [
      "<class 'pandas.core.frame.DataFrame'>\n",
      "Int64Index: 18210 entries, 1 to 49653\n",
      "Data columns (total 10 columns):\n",
      " #   Column                  Non-Null Count  Dtype  \n",
      "---  ------                  --------------  -----  \n",
      " 0   id                      18210 non-null  int64  \n",
      " 1   neighbourhood_cleansed  18210 non-null  object \n",
      " 2   bedrooms                17714 non-null  float64\n",
      " 3   beds                    18131 non-null  float64\n",
      " 4   bathrooms               18178 non-null  float64\n",
      " 5   private bath            18210 non-null  bool   \n",
      " 6   price                   18210 non-null  float64\n",
      " 7   minimum_nights          18210 non-null  int64  \n",
      " 8   review_scores_rating    12212 non-null  float64\n",
      " 9   private_room            18210 non-null  bool   \n",
      "dtypes: bool(2), float64(5), int64(2), object(1)\n",
      "memory usage: 1.3+ MB\n"
     ]
    }
   ],
   "source": [
    "listings_short.info()"
   ]
  },
  {
   "cell_type": "markdown",
   "metadata": {},
   "source": [
    "Before moving to a linear regression model, we need to manage NaN values that are still present in the list\n",
    "\n",
    "It seems reasonable to fill 'review_scores_rating' with an average value and then dropping rows where we miss a value for bedroom, bathroom and beds."
   ]
  },
  {
   "cell_type": "code",
   "execution_count": 60,
   "metadata": {},
   "outputs": [
    {
     "name": "stdout",
     "output_type": "stream",
     "text": [
      "<class 'pandas.core.frame.DataFrame'>\n",
      "Int64Index: 17626 entries, 1 to 49653\n",
      "Data columns (total 10 columns):\n",
      " #   Column                  Non-Null Count  Dtype  \n",
      "---  ------                  --------------  -----  \n",
      " 0   id                      17626 non-null  int64  \n",
      " 1   neighbourhood_cleansed  17626 non-null  object \n",
      " 2   bedrooms                17626 non-null  float64\n",
      " 3   beds                    17626 non-null  float64\n",
      " 4   bathrooms               17626 non-null  float64\n",
      " 5   private bath            17626 non-null  bool   \n",
      " 6   price                   17626 non-null  float64\n",
      " 7   minimum_nights          17626 non-null  int64  \n",
      " 8   review_scores_rating    17626 non-null  float64\n",
      " 9   private_room            17626 non-null  bool   \n",
      "dtypes: bool(2), float64(5), int64(2), object(1)\n",
      "memory usage: 1.2+ MB\n"
     ]
    }
   ],
   "source": [
    "fill_value=listings_short['review_scores_rating'].mean()\n",
    "listings_short['review_scores_rating'].fillna(value=fill_value, inplace=True)\n",
    "listings_short.dropna(axis=0,how='any',inplace=True)\n",
    "listings_short.info()"
   ]
  },
  {
   "cell_type": "markdown",
   "metadata": {},
   "source": [
    "We will now try to deploy a linear regression mode based on informations available in listing_short. Intention is to treat location separetely, let's start as an example from Taormina: "
   ]
  },
  {
   "cell_type": "code",
   "execution_count": 61,
   "metadata": {},
   "outputs": [
    {
     "data": {
      "text/plain": [
       "'The r-squared score for your model was 0.4886288787343178 on 324 values.'"
      ]
     },
     "execution_count": 61,
     "metadata": {},
     "output_type": "execute_result"
    }
   ],
   "source": [
    "listings_short_loc=listings_short[listings_short['neighbourhood_cleansed']=='Taormina']\n",
    "X=listings_short_loc.drop(columns=['id','price','neighbourhood_cleansed'])\n",
    "Y=listings_short_loc['price']\n",
    "X_train, X_test, y_train, y_test = train_test_split(X, Y, test_size = .30, random_state=42) \n",
    "lm_model = LinearRegression(normalize=True) # Instantiate\n",
    "lm_model.fit(X_train, y_train) #Fit\n",
    "y_test_preds = lm_model.predict(X_test) \n",
    "\"The r-squared score for your model was {} on {} values.\".format(r2_score(y_test, y_test_preds), len(y_test))"
   ]
  },
  {
   "cell_type": "markdown",
   "metadata": {},
   "source": [
    "To finalize the task, we will calculate two different estimation:\n",
    "- the sum of price per day obtained by a linear regression model\n",
    "- the convolution of the price distribution per day (assuming, for sake of simplicity, that prices follow a Normal distribution)\n",
    "\n",
    "Calculation will proceed as follows:\n",
    "\n",
    "1) Set room requirement for each day in the travelling plan\n",
    "\n",
    "2) For each day on the vacation plan:\n",
    "    - Run a linear regression model to have a predictor\n",
    "    - calculate r-squared score \n",
    "    - Estimate the cost of the day inserting room requirement in the predictor\n",
    "    - Calculate mean and variance of the prices for the accomodation satisfying requirements\n",
    "\n",
    "3) Sum cost per day estimation to have a total predicted cost\n",
    "\n",
    "4) Design a normal distribution starting from the lists of means and variances of price per day\n",
    "\n",
    "5) Draw conclusions"
   ]
  },
  {
   "cell_type": "markdown",
   "metadata": {},
   "source": [
    "#### step 1 - Set requirement per day\n",
    "Let's assume that we limit to  mandatoryrequirement in Taormina, Castelvetrano and Castellammare del Golfo, while we want both mandatory and negotiable satisfied in all other location. "
   ]
  },
  {
   "cell_type": "code",
   "execution_count": 62,
   "metadata": {},
   "outputs": [],
   "source": [
    "req_bedrooms={}\n",
    "req_bathrooms={}\n",
    "req_rating={}\n",
    "\n",
    "for l in set(timelist):\n",
    "    req_bedrooms[l]=2\n",
    "    req_bathrooms[l]=2\n",
    "    req_rating[l]=80\n",
    "for l in ['Taormina','Castelvetrano','Castellammare del Golfo']:\n",
    "    req_bedrooms[l]=2\n",
    "    req_bathrooms[l]=2\n",
    "    req_rating[l]=90\n"
   ]
  },
  {
   "cell_type": "markdown",
   "metadata": {},
   "source": [
    "#### step 2: main calculation loop"
   ]
  },
  {
   "cell_type": "code",
   "execution_count": 63,
   "metadata": {},
   "outputs": [
    {
     "name": "stdout",
     "output_type": "stream",
     "text": [
      "<class 'pandas.core.frame.DataFrame'>\n",
      "Int64Index: 17626 entries, 1 to 49653\n",
      "Data columns (total 10 columns):\n",
      " #   Column                  Non-Null Count  Dtype  \n",
      "---  ------                  --------------  -----  \n",
      " 0   id                      17626 non-null  int64  \n",
      " 1   neighbourhood_cleansed  17626 non-null  object \n",
      " 2   bedrooms                17626 non-null  float64\n",
      " 3   beds                    17626 non-null  float64\n",
      " 4   bathrooms               17626 non-null  float64\n",
      " 5   private bath            17626 non-null  bool   \n",
      " 6   price                   17626 non-null  float64\n",
      " 7   minimum_nights          17626 non-null  int64  \n",
      " 8   review_scores_rating    17626 non-null  float64\n",
      " 9   private_room            17626 non-null  bool   \n",
      "dtypes: bool(2), float64(5), int64(2), object(1)\n",
      "memory usage: 1.2+ MB\n"
     ]
    }
   ],
   "source": [
    "listings_short.info()"
   ]
  },
  {
   "cell_type": "code",
   "execution_count": 64,
   "metadata": {},
   "outputs": [],
   "source": [
    "prediction=[]    #list of predicted cost per day\n",
    "r_square=[]      #list of r_square score fr linear models\n",
    "convol_mean=0    #Mean of the overall travel cost \n",
    "convol_var=0     #Variance of the overall travel cost (we assume all variables are normally distributed so variance of convolution is the sum of variances)\n",
    "\n",
    "for loc in timelist:   #we scroll the location timeplan\n",
    "    #we define a dataset we daily location data only\n",
    "    listings_short_loc=listings_short[listings_short['neighbourhood_cleansed']==loc]  \n",
    "    \n",
    "    #preparation of a linear regression model for the day\n",
    "    X=listings_short_loc.drop(columns=['id','price','neighbourhood_cleansed'])\n",
    "    Y=listings_short_loc['price']\n",
    "    X_train, X_test, y_train, y_test = train_test_split(X, Y, test_size = .30, random_state=42) \n",
    "    lm_model = LinearRegression(normalize=True) # Instantiate\n",
    "    lm_model.fit(X_train, y_train) #Fit\n",
    "    y_test_preds = lm_model.predict(X_test) \n",
    "    r_square.append(r2_score(y_test, y_test_preds))\n",
    "    # model is trained (we store the r_square score for reference)\n",
    "    \n",
    "    #then we run the prediction on a room corresponding to traveler's minimal requirements\n",
    "    X_req=pd.DataFrame(index=[1],data={'bedrooms':req_bedrooms[loc],'beds':3, \n",
    "                                       'bathrooms':req_bathrooms[loc], 'private bath':True,  'minimum_nights':1,\n",
    "                                       'review_scores_rating':req_rating[loc],'private_room':True})\n",
    "    y_req = lm_model.predict(X_req) \n",
    "    prediction.append(y_req)\n",
    "    listings_short_loc=listings_short_loc[listings_short_loc['bedrooms']==req_bedrooms[loc]]\n",
    "    listings_short_loc=listings_short_loc[listings_short_loc['bathrooms']==req_bathrooms[loc]]\n",
    "    listings_short_loc=listings_short_loc[listings_short_loc['review_scores_rating']>=req_rating[loc]]\n",
    "    convol_mean+=listings_short_loc['price'].mean()\n",
    "    convol_var+=listings_short_loc['price'].var()\n",
    "convol_std=convol_var**0.5\n",
    "    "
   ]
  },
  {
   "cell_type": "markdown",
   "metadata": {},
   "source": [
    "#### Step 3: Let's look at prection outcome:"
   ]
  },
  {
   "cell_type": "code",
   "execution_count": 65,
   "metadata": {},
   "outputs": [
    {
     "name": "stdout",
     "output_type": "stream",
     "text": [
      "day 1: Catania. Cost per day: 76. Cumulative cost: [76.01836645]\n",
      "day 2: Catania. Cost per day: 76. Cumulative cost: [152.0367329]\n",
      "day 3: Siracusa. Cost per day: 109. Cumulative cost: [261.79751597]\n",
      "day 4: Siracusa. Cost per day: 109. Cumulative cost: [371.55829903]\n",
      "day 5: Ragusa. Cost per day: 103. Cumulative cost: [475.27582873]\n",
      "day 6: Agrigento. Cost per day: 90. Cumulative cost: [565.82800802]\n",
      "day 7: Castelvetrano. Cost per day: 133. Cumulative cost: [699.79111628]\n",
      "day 8: Trapani. Cost per day: 100. Cumulative cost: [800.1250449]\n",
      "day 9: Trapani. Cost per day: 100. Cumulative cost: [900.45897353]\n",
      "day 10: Castellammare del Golfo. Cost per day: 117. Cumulative cost: [1017.8023666]\n",
      "day 11: Palermo. Cost per day: 88. Cumulative cost: [1106.1815098]\n",
      "day 12: Palermo. Cost per day: 88. Cumulative cost: [1194.560653]\n",
      "day 13: Taormina. Cost per day: 144. Cumulative cost: [1339.42572174]\n",
      "day 14: Taormina. Cost per day: 144. Cumulative cost: [1484.29079047]\n"
     ]
    }
   ],
   "source": [
    "for i in range(len(timelist)):\n",
    "    print('day {}: {}. Cost per day: {}. Cumulative cost: {}'.format(i+1,timelist[i],int(prediction[i]),sum(prediction[:i+1])))"
   ]
  },
  {
   "cell_type": "markdown",
   "metadata": {},
   "source": [
    "So far so good: it seems the predicted cost (\\$1500) is meeting budget constraint!"
   ]
  },
  {
   "cell_type": "markdown",
   "metadata": {},
   "source": [
    "#### Step 4: Cost distribution \n",
    "As said, under the assumptions that all price distributions are normally distributed:"
   ]
  },
  {
   "cell_type": "code",
   "execution_count": 66,
   "metadata": {},
   "outputs": [],
   "source": [
    "from scipy.stats import norm\n",
    "cost=[]\n",
    "prob=[]\n",
    "perc_not_found=True\n",
    "for x in range(2,4000, 2):\n",
    "    y=norm.cdf(x, convol_mean, convol_std)\n",
    "    cost.append(x)\n",
    "    prob.append(y)\n",
    "    if perc_not_found and y >= 0.75:\n",
    "        perc_75=x-2\n",
    "        perc_not_found=False"
   ]
  },
  {
   "cell_type": "code",
   "execution_count": 67,
   "metadata": {},
   "outputs": [
    {
     "name": "stdout",
     "output_type": "stream",
     "text": [
      "Computed average cost: 1429.1052175749965\n",
      "Computed cost standard deviation: 273.6588458486504\n",
      "75th percentile: 1612\n"
     ]
    }
   ],
   "source": [
    "print('Computed average cost: {}'.format(convol_mean))\n",
    "print('Computed cost standard deviation: {}'.format(convol_std))\n",
    "print('75th percentile: {}'.format(perc_75))\n"
   ]
  },
  {
   "cell_type": "code",
   "execution_count": 68,
   "metadata": {},
   "outputs": [
    {
     "data": {
      "text/plain": [
       "[<matplotlib.lines.Line2D at 0xa273a4b6a0>]"
      ]
     },
     "execution_count": 68,
     "metadata": {},
     "output_type": "execute_result"
    },
    {
     "data": {
      "image/png": "[encoded data removed]",
      "text/plain": [
       "<Figure size 1080x576 with 1 Axes>"
      ]
     },
     "metadata": {
      "needs_background": "light"
     },
     "output_type": "display_data"
    }
   ],
   "source": [
    "fig, ax = plt.subplots()\n",
    "fig.set_size_inches(15,8)\n",
    "sns.scatterplot(x=cost, y=prob)\n",
    "ax.annotate('Computed average cost: {:.0f}'.format(convol_mean), xy=(2000, .60))\n",
    "ax.annotate('Assuming all distributions are normal:', xy=(2000, .55))\n",
    "ax.annotate('o 75th percentile: {:.0f}'.format(perc_75), xy=(2100, .50))\n",
    "ax.annotate('o Computed cost standard deviation: {:.0f}'.format(convol_std), xy=(2100, .45))\n",
    "#ax.set(xlim=(10, 1000))\n",
    "ax.set_xlabel('Overal accomodation cost (14 nights)')\n",
    "ax.set_ylabel('Prob [Cost < x]')\n",
    "ax.plot([0, 4000],[0.75,.75], color='red',linewidth=1)"
   ]
  },
  {
   "cell_type": "code",
   "execution_count": null,
   "metadata": {},
   "outputs": [],
   "source": []
  }
 ],
 "metadata": {
  "kernelspec": {
   "display_name": "Python 3",
   "language": "python",
   "name": "python3"
  },
  "language_info": {
   "codemirror_mode": {
    "name": "ipython",
    "version": 3
   },
   "file_extension": ".py",
   "mimetype": "text/x-python",
   "name": "python",
   "nbconvert_exporter": "python",
   "pygments_lexer": "ipython3",
   "version": "3.8.5"
  }
 },
 "nbformat": 4,
 "nbformat_minor": 2
}
