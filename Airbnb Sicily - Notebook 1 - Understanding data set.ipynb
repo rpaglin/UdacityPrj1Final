{
 "cells": [
  {
   "cell_type": "markdown",
   "metadata": {},
   "source": [
    "## Nanodegree Project 1 - Calculating budget for traveling Sicily\n",
    "The project is based on Airbnb data for Sicily, retrieved from http://insideairbnb.com/. \n",
    "The target of the project is to explore relationship between rental fee, locations and accomodation characteristics of the airbnb offer. The project will analysis the forecasted cost for accomodation of an hypothetical 2 weeks travel in Sicily, considering variation in travelling preferences,  destinations and requested room characteristics (and assuming to stay in some Airbnb or Airbnb-like houses).  "
   ]
  },
  {
   "cell_type": "markdown",
   "metadata": {},
   "source": [
    "## Step 1 - Pick a data set. Reading and basic understanding of available Data"
   ]
  },
  {
   "cell_type": "code",
   "execution_count": 1,
   "metadata": {},
   "outputs": [],
   "source": [
    "import pandas as pd"
   ]
  },
  {
   "cell_type": "code",
   "execution_count": 2,
   "metadata": {},
   "outputs": [
    {
     "name": "stdout",
     "output_type": "stream",
     "text": [
      "C:\\Users\\Roberto\\UdacityNanodegreeAirbnb\\Data\n"
     ]
    }
   ],
   "source": [
    "cd \".\\\\Data\""
   ]
  },
  {
   "cell_type": "markdown",
   "metadata": {},
   "source": [
    "Available data are grouped in a few files, namely:\n",
    "- \"listings_full.csv\": descriptions of the different structures, including position, price, charcteristics, rating etc \n",
    "- \"listings_short\".csv: a subset of previous files limited to more commonly used columns\n",
    "- \"calendar.csv\": basically price per date per accomodation. Information are correlated listing through a dedicated listing_id field\n",
    "- \"neighbourhoods.csv\": Basically include the list of towns/village considered \n",
    "- \"neighbourhoods.geojson\": geojson geographical info for locations in neighbourhoods \n",
    "- \"reviews_short.csv\": each rows corresponds to a stay review and provides a reference to the evaluated structure and a date for the review \n",
    "- \"reviews_full.csv\": for each review listed in the previous file, adds reviewer id and the text provided as a review \n",
    "\n",
    "Following commands will explore the content of different dataset, starting from basic files and then moving to more complex ones "
   ]
  },
  {
   "cell_type": "markdown",
   "metadata": {},
   "source": [
    "#### Listings"
   ]
  },
  {
   "cell_type": "code",
   "execution_count": 3,
   "metadata": {},
   "outputs": [],
   "source": [
    "listings=pd.read_csv('listings_short.csv')\n"
   ]
  },
  {
   "cell_type": "code",
   "execution_count": 4,
   "metadata": {},
   "outputs": [
    {
     "name": "stdout",
     "output_type": "stream",
     "text": [
      "<class 'pandas.core.frame.DataFrame'>\n",
      "RangeIndex: 49659 entries, 0 to 49658\n",
      "Data columns (total 16 columns):\n",
      " #   Column                          Non-Null Count  Dtype  \n",
      "---  ------                          --------------  -----  \n",
      " 0   id                              49659 non-null  int64  \n",
      " 1   name                            49654 non-null  object \n",
      " 2   host_id                         49659 non-null  int64  \n",
      " 3   host_name                       47320 non-null  object \n",
      " 4   neighbourhood_group             0 non-null      float64\n",
      " 5   neighbourhood                   49659 non-null  object \n",
      " 6   latitude                        49659 non-null  float64\n",
      " 7   longitude                       49659 non-null  float64\n",
      " 8   room_type                       49659 non-null  object \n",
      " 9   price                           49659 non-null  int64  \n",
      " 10  minimum_nights                  49659 non-null  int64  \n",
      " 11  number_of_reviews               49659 non-null  int64  \n",
      " 12  last_review                     31597 non-null  object \n",
      " 13  reviews_per_month               31597 non-null  float64\n",
      " 14  calculated_host_listings_count  49659 non-null  int64  \n",
      " 15  availability_365                49659 non-null  int64  \n",
      "dtypes: float64(4), int64(7), object(5)\n",
      "memory usage: 6.1+ MB\n"
     ]
    }
   ],
   "source": [
    "listings.info()"
   ]
  },
  {
   "cell_type": "code",
   "execution_count": 5,
   "metadata": {},
   "outputs": [
    {
     "data": {
      "text/plain": [
       "id                                49659\n",
       "name                              47587\n",
       "host_id                           27413\n",
       "host_name                          4204\n",
       "neighbourhood_group                   0\n",
       "neighbourhood                       369\n",
       "latitude                          36218\n",
       "longitude                         38184\n",
       "room_type                             4\n",
       "price                               729\n",
       "minimum_nights                       49\n",
       "number_of_reviews                   324\n",
       "last_review                        1873\n",
       "reviews_per_month                   509\n",
       "calculated_host_listings_count       58\n",
       "availability_365                    366\n",
       "dtype: int64"
      ]
     },
     "execution_count": 5,
     "metadata": {},
     "output_type": "execute_result"
    }
   ],
   "source": [
    "listings.nunique()"
   ]
  },
  {
   "cell_type": "code",
   "execution_count": 6,
   "metadata": {},
   "outputs": [
    {
     "data": {
      "text/html": [
       "<div>\n",
       "<style scoped>\n",
       "    .dataframe tbody tr th:only-of-type {\n",
       "        vertical-align: middle;\n",
       "    }\n",
       "\n",
       "    .dataframe tbody tr th {\n",
       "        vertical-align: top;\n",
       "    }\n",
       "\n",
       "    .dataframe thead th {\n",
       "        text-align: right;\n",
       "    }\n",
       "</style>\n",
       "<table border=\"1\" class=\"dataframe\">\n",
       "  <thead>\n",
       "    <tr style=\"text-align: right;\">\n",
       "      <th></th>\n",
       "      <th>id</th>\n",
       "      <th>host_id</th>\n",
       "      <th>neighbourhood_group</th>\n",
       "      <th>latitude</th>\n",
       "      <th>longitude</th>\n",
       "      <th>price</th>\n",
       "      <th>minimum_nights</th>\n",
       "      <th>number_of_reviews</th>\n",
       "      <th>reviews_per_month</th>\n",
       "      <th>calculated_host_listings_count</th>\n",
       "      <th>availability_365</th>\n",
       "    </tr>\n",
       "  </thead>\n",
       "  <tbody>\n",
       "    <tr>\n",
       "      <th>count</th>\n",
       "      <td>4.965900e+04</td>\n",
       "      <td>4.965900e+04</td>\n",
       "      <td>0.0</td>\n",
       "      <td>49659.000000</td>\n",
       "      <td>49659.000000</td>\n",
       "      <td>49659.000000</td>\n",
       "      <td>49659.000000</td>\n",
       "      <td>49659.000000</td>\n",
       "      <td>31597.000000</td>\n",
       "      <td>49659.000000</td>\n",
       "      <td>49659.000000</td>\n",
       "    </tr>\n",
       "    <tr>\n",
       "      <th>mean</th>\n",
       "      <td>2.495376e+07</td>\n",
       "      <td>1.185594e+08</td>\n",
       "      <td>NaN</td>\n",
       "      <td>37.619581</td>\n",
       "      <td>14.174445</td>\n",
       "      <td>93.213093</td>\n",
       "      <td>3.058277</td>\n",
       "      <td>11.583359</td>\n",
       "      <td>0.432392</td>\n",
       "      <td>8.986709</td>\n",
       "      <td>259.985884</td>\n",
       "    </tr>\n",
       "    <tr>\n",
       "      <th>std</th>\n",
       "      <td>1.407835e+07</td>\n",
       "      <td>1.087286e+08</td>\n",
       "      <td>NaN</td>\n",
       "      <td>0.542291</td>\n",
       "      <td>1.032261</td>\n",
       "      <td>242.796749</td>\n",
       "      <td>8.777910</td>\n",
       "      <td>29.684682</td>\n",
       "      <td>0.669746</td>\n",
       "      <td>27.377200</td>\n",
       "      <td>117.760813</td>\n",
       "    </tr>\n",
       "    <tr>\n",
       "      <th>min</th>\n",
       "      <td>7.011000e+03</td>\n",
       "      <td>1.688800e+04</td>\n",
       "      <td>NaN</td>\n",
       "      <td>35.494150</td>\n",
       "      <td>11.927540</td>\n",
       "      <td>9.000000</td>\n",
       "      <td>1.000000</td>\n",
       "      <td>0.000000</td>\n",
       "      <td>0.010000</td>\n",
       "      <td>1.000000</td>\n",
       "      <td>0.000000</td>\n",
       "    </tr>\n",
       "    <tr>\n",
       "      <th>25%</th>\n",
       "      <td>1.352509e+07</td>\n",
       "      <td>2.224665e+07</td>\n",
       "      <td>NaN</td>\n",
       "      <td>37.079810</td>\n",
       "      <td>13.314330</td>\n",
       "      <td>45.000000</td>\n",
       "      <td>1.000000</td>\n",
       "      <td>0.000000</td>\n",
       "      <td>0.070000</td>\n",
       "      <td>1.000000</td>\n",
       "      <td>179.000000</td>\n",
       "    </tr>\n",
       "    <tr>\n",
       "      <th>50%</th>\n",
       "      <td>2.496907e+07</td>\n",
       "      <td>8.353864e+07</td>\n",
       "      <td>NaN</td>\n",
       "      <td>37.762520</td>\n",
       "      <td>14.605340</td>\n",
       "      <td>60.000000</td>\n",
       "      <td>2.000000</td>\n",
       "      <td>2.000000</td>\n",
       "      <td>0.180000</td>\n",
       "      <td>2.000000</td>\n",
       "      <td>311.000000</td>\n",
       "    </tr>\n",
       "    <tr>\n",
       "      <th>75%</th>\n",
       "      <td>3.669773e+07</td>\n",
       "      <td>1.946803e+08</td>\n",
       "      <td>NaN</td>\n",
       "      <td>38.066945</td>\n",
       "      <td>15.110270</td>\n",
       "      <td>95.000000</td>\n",
       "      <td>3.000000</td>\n",
       "      <td>9.000000</td>\n",
       "      <td>0.480000</td>\n",
       "      <td>4.000000</td>\n",
       "      <td>364.000000</td>\n",
       "    </tr>\n",
       "    <tr>\n",
       "      <th>max</th>\n",
       "      <td>4.889389e+07</td>\n",
       "      <td>3.943143e+08</td>\n",
       "      <td>NaN</td>\n",
       "      <td>38.810190</td>\n",
       "      <td>15.651370</td>\n",
       "      <td>21000.000000</td>\n",
       "      <td>1000.000000</td>\n",
       "      <td>598.000000</td>\n",
       "      <td>10.860000</td>\n",
       "      <td>238.000000</td>\n",
       "      <td>365.000000</td>\n",
       "    </tr>\n",
       "  </tbody>\n",
       "</table>\n",
       "</div>"
      ],
      "text/plain": [
       "                 id       host_id  neighbourhood_group      latitude  \\\n",
       "count  4.965900e+04  4.965900e+04                  0.0  49659.000000   \n",
       "mean   2.495376e+07  1.185594e+08                  NaN     37.619581   \n",
       "std    1.407835e+07  1.087286e+08                  NaN      0.542291   \n",
       "min    7.011000e+03  1.688800e+04                  NaN     35.494150   \n",
       "25%    1.352509e+07  2.224665e+07                  NaN     37.079810   \n",
       "50%    2.496907e+07  8.353864e+07                  NaN     37.762520   \n",
       "75%    3.669773e+07  1.946803e+08                  NaN     38.066945   \n",
       "max    4.889389e+07  3.943143e+08                  NaN     38.810190   \n",
       "\n",
       "          longitude         price  minimum_nights  number_of_reviews  \\\n",
       "count  49659.000000  49659.000000    49659.000000       49659.000000   \n",
       "mean      14.174445     93.213093        3.058277          11.583359   \n",
       "std        1.032261    242.796749        8.777910          29.684682   \n",
       "min       11.927540      9.000000        1.000000           0.000000   \n",
       "25%       13.314330     45.000000        1.000000           0.000000   \n",
       "50%       14.605340     60.000000        2.000000           2.000000   \n",
       "75%       15.110270     95.000000        3.000000           9.000000   \n",
       "max       15.651370  21000.000000     1000.000000         598.000000   \n",
       "\n",
       "       reviews_per_month  calculated_host_listings_count  availability_365  \n",
       "count       31597.000000                    49659.000000      49659.000000  \n",
       "mean            0.432392                        8.986709        259.985884  \n",
       "std             0.669746                       27.377200        117.760813  \n",
       "min             0.010000                        1.000000          0.000000  \n",
       "25%             0.070000                        1.000000        179.000000  \n",
       "50%             0.180000                        2.000000        311.000000  \n",
       "75%             0.480000                        4.000000        364.000000  \n",
       "max            10.860000                      238.000000        365.000000  "
      ]
     },
     "execution_count": 6,
     "metadata": {},
     "output_type": "execute_result"
    }
   ],
   "source": [
    "listings.describe()"
   ]
  },
  {
   "cell_type": "markdown",
   "metadata": {},
   "source": [
    "The listings dataset include almost 50k airbnb structures in the region (1 per row) and appears to be complete in most of its key fields (price, neighbourhood, room type, etc do not show NaN values at first glance). We only have a few missing info about the the host (name and id), while about 40% of structures appear to miss reviews.\n",
    "We also note the presence of a structure id (that will be used to correlate info from different files) and of a field that include a date and must later be casted into datetime"
   ]
  },
  {
   "cell_type": "code",
   "execution_count": 7,
   "metadata": {},
   "outputs": [
    {
     "data": {
      "text/html": [
       "<div>\n",
       "<style scoped>\n",
       "    .dataframe tbody tr th:only-of-type {\n",
       "        vertical-align: middle;\n",
       "    }\n",
       "\n",
       "    .dataframe tbody tr th {\n",
       "        vertical-align: top;\n",
       "    }\n",
       "\n",
       "    .dataframe thead th {\n",
       "        text-align: right;\n",
       "    }\n",
       "</style>\n",
       "<table border=\"1\" class=\"dataframe\">\n",
       "  <thead>\n",
       "    <tr style=\"text-align: right;\">\n",
       "      <th></th>\n",
       "      <th>id</th>\n",
       "      <th>name</th>\n",
       "      <th>host_id</th>\n",
       "      <th>host_name</th>\n",
       "      <th>neighbourhood_group</th>\n",
       "      <th>neighbourhood</th>\n",
       "      <th>latitude</th>\n",
       "      <th>longitude</th>\n",
       "      <th>room_type</th>\n",
       "      <th>price</th>\n",
       "      <th>minimum_nights</th>\n",
       "      <th>number_of_reviews</th>\n",
       "      <th>last_review</th>\n",
       "      <th>reviews_per_month</th>\n",
       "      <th>calculated_host_listings_count</th>\n",
       "      <th>availability_365</th>\n",
       "    </tr>\n",
       "  </thead>\n",
       "  <tbody>\n",
       "    <tr>\n",
       "      <th>264</th>\n",
       "      <td>319959</td>\n",
       "      <td>Beautiful Appartment in Favignana</td>\n",
       "      <td>1585324</td>\n",
       "      <td>Alice</td>\n",
       "      <td>NaN</td>\n",
       "      <td>Favignana</td>\n",
       "      <td>37.90972</td>\n",
       "      <td>12.34908</td>\n",
       "      <td>Entire home/apt</td>\n",
       "      <td>50</td>\n",
       "      <td>5</td>\n",
       "      <td>14</td>\n",
       "      <td>2019-08-28</td>\n",
       "      <td>0.13</td>\n",
       "      <td>7</td>\n",
       "      <td>335</td>\n",
       "    </tr>\n",
       "    <tr>\n",
       "      <th>365</th>\n",
       "      <td>440491</td>\n",
       "      <td>VACANZE  SULL' ISOLA DI FAVIGNANA</td>\n",
       "      <td>2151311</td>\n",
       "      <td>Rosario</td>\n",
       "      <td>NaN</td>\n",
       "      <td>Favignana</td>\n",
       "      <td>37.92525</td>\n",
       "      <td>12.33097</td>\n",
       "      <td>Entire home/apt</td>\n",
       "      <td>50</td>\n",
       "      <td>7</td>\n",
       "      <td>58</td>\n",
       "      <td>2019-09-11</td>\n",
       "      <td>0.61</td>\n",
       "      <td>5</td>\n",
       "      <td>310</td>\n",
       "    </tr>\n",
       "    <tr>\n",
       "      <th>366</th>\n",
       "      <td>440565</td>\n",
       "      <td>The Butterfly Island</td>\n",
       "      <td>2151311</td>\n",
       "      <td>Rosario</td>\n",
       "      <td>NaN</td>\n",
       "      <td>Favignana</td>\n",
       "      <td>37.92502</td>\n",
       "      <td>12.32384</td>\n",
       "      <td>Entire home/apt</td>\n",
       "      <td>54</td>\n",
       "      <td>7</td>\n",
       "      <td>44</td>\n",
       "      <td>2020-08-07</td>\n",
       "      <td>0.46</td>\n",
       "      <td>5</td>\n",
       "      <td>327</td>\n",
       "    </tr>\n",
       "  </tbody>\n",
       "</table>\n",
       "</div>"
      ],
      "text/plain": [
       "         id                               name  host_id host_name  \\\n",
       "264  319959  Beautiful Appartment in Favignana  1585324     Alice   \n",
       "365  440491  VACANZE  SULL' ISOLA DI FAVIGNANA  2151311   Rosario   \n",
       "366  440565               The Butterfly Island  2151311   Rosario   \n",
       "\n",
       "     neighbourhood_group neighbourhood  latitude  longitude        room_type  \\\n",
       "264                  NaN     Favignana  37.90972   12.34908  Entire home/apt   \n",
       "365                  NaN     Favignana  37.92525   12.33097  Entire home/apt   \n",
       "366                  NaN     Favignana  37.92502   12.32384  Entire home/apt   \n",
       "\n",
       "     price  minimum_nights  number_of_reviews last_review  reviews_per_month  \\\n",
       "264     50               5                 14  2019-08-28               0.13   \n",
       "365     50               7                 58  2019-09-11               0.61   \n",
       "366     54               7                 44  2020-08-07               0.46   \n",
       "\n",
       "     calculated_host_listings_count  availability_365  \n",
       "264                               7               335  \n",
       "365                               5               310  \n",
       "366                               5               327  "
      ]
     },
     "execution_count": 7,
     "metadata": {},
     "output_type": "execute_result"
    }
   ],
   "source": [
    "listings[listings['neighbourhood']=='Favignana'].head(3)"
   ]
  },
  {
   "cell_type": "code",
   "execution_count": 8,
   "metadata": {},
   "outputs": [
    {
     "data": {
      "text/plain": [
       "array([[<AxesSubplot:title={'center':'number_of_reviews'}>]], dtype=object)"
      ]
     },
     "execution_count": 8,
     "metadata": {},
     "output_type": "execute_result"
    },
    {
     "data": {
      "image/png": "[encoded data removed]",
      "text/plain": [
       "<Figure size 432x288 with 1 Axes>"
      ]
     },
     "metadata": {
      "needs_background": "light"
     },
     "output_type": "display_data"
    }
   ],
   "source": [
    "listings.hist(bins=50,column=['number_of_reviews'])"
   ]
  },
  {
   "cell_type": "code",
   "execution_count": 9,
   "metadata": {},
   "outputs": [
    {
     "data": {
      "text/plain": [
       "0    18062\n",
       "1     6495\n",
       "2     3552\n",
       "3     2441\n",
       "4     1875\n",
       "Name: number_of_reviews, dtype: int64"
      ]
     },
     "execution_count": 9,
     "metadata": {},
     "output_type": "execute_result"
    }
   ],
   "source": [
    "listings['number_of_reviews'].value_counts().head(5)"
   ]
  },
  {
   "cell_type": "code",
   "execution_count": 10,
   "metadata": {},
   "outputs": [
    {
     "data": {
      "text/plain": [
       "575218"
      ]
     },
     "execution_count": 10,
     "metadata": {},
     "output_type": "execute_result"
    }
   ],
   "source": [
    "listings['number_of_reviews'].sum()"
   ]
  },
  {
   "cell_type": "code",
   "execution_count": 11,
   "metadata": {},
   "outputs": [
    {
     "data": {
      "text/plain": [
       "Entire home/apt    39792\n",
       "Private room        9171\n",
       "Hotel room           606\n",
       "Shared room           90\n",
       "Name: room_type, dtype: int64"
      ]
     },
     "execution_count": 11,
     "metadata": {},
     "output_type": "execute_result"
    }
   ],
   "source": [
    "listings['room_type'].value_counts()"
   ]
  },
  {
   "cell_type": "code",
   "execution_count": 12,
   "metadata": {},
   "outputs": [
    {
     "data": {
      "text/plain": [
       "<AxesSubplot:>"
      ]
     },
     "execution_count": 12,
     "metadata": {},
     "output_type": "execute_result"
    },
    {
     "data": {
      "image/png": "[encoded data removed]",
      "text/plain": [
       "<Figure size 432x288 with 1 Axes>"
      ]
     },
     "metadata": {
      "needs_background": "light"
     },
     "output_type": "display_data"
    }
   ],
   "source": [
    "listings['calculated_host_listings_count'].hist( bins=50)"
   ]
  },
  {
   "cell_type": "markdown",
   "metadata": {},
   "source": [
    "#### Calendar"
   ]
  },
  {
   "cell_type": "code",
   "execution_count": 13,
   "metadata": {},
   "outputs": [],
   "source": [
    "calendar=pd.read_csv('calendar.csv')"
   ]
  },
  {
   "cell_type": "code",
   "execution_count": 14,
   "metadata": {},
   "outputs": [
    {
     "name": "stdout",
     "output_type": "stream",
     "text": [
      "<class 'pandas.core.frame.DataFrame'>\n",
      "RangeIndex: 18125862 entries, 0 to 18125861\n",
      "Data columns (total 7 columns):\n",
      " #   Column          Dtype  \n",
      "---  ------          -----  \n",
      " 0   listing_id      int64  \n",
      " 1   date            object \n",
      " 2   available       object \n",
      " 3   price           object \n",
      " 4   adjusted_price  object \n",
      " 5   minimum_nights  float64\n",
      " 6   maximum_nights  float64\n",
      "dtypes: float64(2), int64(1), object(4)\n",
      "memory usage: 968.0+ MB\n"
     ]
    }
   ],
   "source": [
    "calendar.info()"
   ]
  },
  {
   "cell_type": "code",
   "execution_count": 15,
   "metadata": {},
   "outputs": [
    {
     "data": {
      "text/html": [
       "<div>\n",
       "<style scoped>\n",
       "    .dataframe tbody tr th:only-of-type {\n",
       "        vertical-align: middle;\n",
       "    }\n",
       "\n",
       "    .dataframe tbody tr th {\n",
       "        vertical-align: top;\n",
       "    }\n",
       "\n",
       "    .dataframe thead th {\n",
       "        text-align: right;\n",
       "    }\n",
       "</style>\n",
       "<table border=\"1\" class=\"dataframe\">\n",
       "  <thead>\n",
       "    <tr style=\"text-align: right;\">\n",
       "      <th></th>\n",
       "      <th>listing_id</th>\n",
       "      <th>date</th>\n",
       "      <th>available</th>\n",
       "      <th>price</th>\n",
       "      <th>adjusted_price</th>\n",
       "      <th>minimum_nights</th>\n",
       "      <th>maximum_nights</th>\n",
       "    </tr>\n",
       "  </thead>\n",
       "  <tbody>\n",
       "    <tr>\n",
       "      <th>0</th>\n",
       "      <td>189107</td>\n",
       "      <td>2021-04-01</td>\n",
       "      <td>f</td>\n",
       "      <td>$110.00</td>\n",
       "      <td>$110.00</td>\n",
       "      <td>2.0</td>\n",
       "      <td>730.0</td>\n",
       "    </tr>\n",
       "    <tr>\n",
       "      <th>1</th>\n",
       "      <td>67134</td>\n",
       "      <td>2021-04-02</td>\n",
       "      <td>t</td>\n",
       "      <td>$55.00</td>\n",
       "      <td>$55.00</td>\n",
       "      <td>5.0</td>\n",
       "      <td>1125.0</td>\n",
       "    </tr>\n",
       "    <tr>\n",
       "      <th>2</th>\n",
       "      <td>67134</td>\n",
       "      <td>2021-04-03</td>\n",
       "      <td>t</td>\n",
       "      <td>$55.00</td>\n",
       "      <td>$55.00</td>\n",
       "      <td>5.0</td>\n",
       "      <td>1125.0</td>\n",
       "    </tr>\n",
       "    <tr>\n",
       "      <th>3</th>\n",
       "      <td>67134</td>\n",
       "      <td>2021-04-04</td>\n",
       "      <td>t</td>\n",
       "      <td>$55.00</td>\n",
       "      <td>$55.00</td>\n",
       "      <td>5.0</td>\n",
       "      <td>1125.0</td>\n",
       "    </tr>\n",
       "    <tr>\n",
       "      <th>4</th>\n",
       "      <td>67134</td>\n",
       "      <td>2021-04-05</td>\n",
       "      <td>t</td>\n",
       "      <td>$55.00</td>\n",
       "      <td>$55.00</td>\n",
       "      <td>5.0</td>\n",
       "      <td>1125.0</td>\n",
       "    </tr>\n",
       "  </tbody>\n",
       "</table>\n",
       "</div>"
      ],
      "text/plain": [
       "   listing_id        date available    price adjusted_price  minimum_nights  \\\n",
       "0      189107  2021-04-01         f  $110.00        $110.00             2.0   \n",
       "1       67134  2021-04-02         t   $55.00         $55.00             5.0   \n",
       "2       67134  2021-04-03         t   $55.00         $55.00             5.0   \n",
       "3       67134  2021-04-04         t   $55.00         $55.00             5.0   \n",
       "4       67134  2021-04-05         t   $55.00         $55.00             5.0   \n",
       "\n",
       "   maximum_nights  \n",
       "0           730.0  \n",
       "1          1125.0  \n",
       "2          1125.0  \n",
       "3          1125.0  \n",
       "4          1125.0  "
      ]
     },
     "execution_count": 15,
     "metadata": {},
     "output_type": "execute_result"
    }
   ],
   "source": [
    "calendar.head()"
   ]
  },
  {
   "cell_type": "markdown",
   "metadata": {},
   "source": [
    "Each rows of the calendar dataframe represents main rental contractual conditions for a specific structure (\"listing_id\") in a specific date (\"date\"), showing cost per day, night number constraints and an \"adjusted price\" per day). \n",
    "\n",
    "Dates (to be casted to datetime) represents dates in the future at the time when web scraping happened.\n",
    "\n",
    "Commands below show the calendar and listing information associated to a specific strcture (listing id= 67134)"
   ]
  },
  {
   "cell_type": "code",
   "execution_count": 16,
   "metadata": {},
   "outputs": [
    {
     "data": {
      "text/html": [
       "<div>\n",
       "<style scoped>\n",
       "    .dataframe tbody tr th:only-of-type {\n",
       "        vertical-align: middle;\n",
       "    }\n",
       "\n",
       "    .dataframe tbody tr th {\n",
       "        vertical-align: top;\n",
       "    }\n",
       "\n",
       "    .dataframe thead th {\n",
       "        text-align: right;\n",
       "    }\n",
       "</style>\n",
       "<table border=\"1\" class=\"dataframe\">\n",
       "  <thead>\n",
       "    <tr style=\"text-align: right;\">\n",
       "      <th></th>\n",
       "      <th>listing_id</th>\n",
       "      <th>date</th>\n",
       "      <th>available</th>\n",
       "      <th>price</th>\n",
       "      <th>adjusted_price</th>\n",
       "      <th>minimum_nights</th>\n",
       "      <th>maximum_nights</th>\n",
       "    </tr>\n",
       "  </thead>\n",
       "  <tbody>\n",
       "    <tr>\n",
       "      <th>1</th>\n",
       "      <td>67134</td>\n",
       "      <td>2021-04-02</td>\n",
       "      <td>t</td>\n",
       "      <td>$55.00</td>\n",
       "      <td>$55.00</td>\n",
       "      <td>5.0</td>\n",
       "      <td>1125.0</td>\n",
       "    </tr>\n",
       "    <tr>\n",
       "      <th>2</th>\n",
       "      <td>67134</td>\n",
       "      <td>2021-04-03</td>\n",
       "      <td>t</td>\n",
       "      <td>$55.00</td>\n",
       "      <td>$55.00</td>\n",
       "      <td>5.0</td>\n",
       "      <td>1125.0</td>\n",
       "    </tr>\n",
       "    <tr>\n",
       "      <th>3</th>\n",
       "      <td>67134</td>\n",
       "      <td>2021-04-04</td>\n",
       "      <td>t</td>\n",
       "      <td>$55.00</td>\n",
       "      <td>$55.00</td>\n",
       "      <td>5.0</td>\n",
       "      <td>1125.0</td>\n",
       "    </tr>\n",
       "    <tr>\n",
       "      <th>4</th>\n",
       "      <td>67134</td>\n",
       "      <td>2021-04-05</td>\n",
       "      <td>t</td>\n",
       "      <td>$55.00</td>\n",
       "      <td>$55.00</td>\n",
       "      <td>5.0</td>\n",
       "      <td>1125.0</td>\n",
       "    </tr>\n",
       "    <tr>\n",
       "      <th>5</th>\n",
       "      <td>67134</td>\n",
       "      <td>2021-04-06</td>\n",
       "      <td>t</td>\n",
       "      <td>$55.00</td>\n",
       "      <td>$55.00</td>\n",
       "      <td>5.0</td>\n",
       "      <td>1125.0</td>\n",
       "    </tr>\n",
       "  </tbody>\n",
       "</table>\n",
       "</div>"
      ],
      "text/plain": [
       "   listing_id        date available   price adjusted_price  minimum_nights  \\\n",
       "1       67134  2021-04-02         t  $55.00         $55.00             5.0   \n",
       "2       67134  2021-04-03         t  $55.00         $55.00             5.0   \n",
       "3       67134  2021-04-04         t  $55.00         $55.00             5.0   \n",
       "4       67134  2021-04-05         t  $55.00         $55.00             5.0   \n",
       "5       67134  2021-04-06         t  $55.00         $55.00             5.0   \n",
       "\n",
       "   maximum_nights  \n",
       "1          1125.0  \n",
       "2          1125.0  \n",
       "3          1125.0  \n",
       "4          1125.0  \n",
       "5          1125.0  "
      ]
     },
     "execution_count": 16,
     "metadata": {},
     "output_type": "execute_result"
    }
   ],
   "source": [
    "calendar[calendar['listing_id']==67134].head(5)"
   ]
  },
  {
   "cell_type": "code",
   "execution_count": 17,
   "metadata": {},
   "outputs": [
    {
     "data": {
      "text/html": [
       "<div>\n",
       "<style scoped>\n",
       "    .dataframe tbody tr th:only-of-type {\n",
       "        vertical-align: middle;\n",
       "    }\n",
       "\n",
       "    .dataframe tbody tr th {\n",
       "        vertical-align: top;\n",
       "    }\n",
       "\n",
       "    .dataframe thead th {\n",
       "        text-align: right;\n",
       "    }\n",
       "</style>\n",
       "<table border=\"1\" class=\"dataframe\">\n",
       "  <thead>\n",
       "    <tr style=\"text-align: right;\">\n",
       "      <th></th>\n",
       "      <th>id</th>\n",
       "      <th>name</th>\n",
       "      <th>host_id</th>\n",
       "      <th>host_name</th>\n",
       "      <th>neighbourhood_group</th>\n",
       "      <th>neighbourhood</th>\n",
       "      <th>latitude</th>\n",
       "      <th>longitude</th>\n",
       "      <th>room_type</th>\n",
       "      <th>price</th>\n",
       "      <th>minimum_nights</th>\n",
       "      <th>number_of_reviews</th>\n",
       "      <th>last_review</th>\n",
       "      <th>reviews_per_month</th>\n",
       "      <th>calculated_host_listings_count</th>\n",
       "      <th>availability_365</th>\n",
       "    </tr>\n",
       "  </thead>\n",
       "  <tbody>\n",
       "    <tr>\n",
       "      <th>28</th>\n",
       "      <td>67134</td>\n",
       "      <td>[Taormina ] apartment ground floor</td>\n",
       "      <td>330536</td>\n",
       "      <td>NaN</td>\n",
       "      <td>NaN</td>\n",
       "      <td>Acireale</td>\n",
       "      <td>37.65242</td>\n",
       "      <td>15.1936</td>\n",
       "      <td>Entire home/apt</td>\n",
       "      <td>55</td>\n",
       "      <td>5</td>\n",
       "      <td>9</td>\n",
       "      <td>2020-10-22</td>\n",
       "      <td>0.08</td>\n",
       "      <td>6</td>\n",
       "      <td>365</td>\n",
       "    </tr>\n",
       "  </tbody>\n",
       "</table>\n",
       "</div>"
      ],
      "text/plain": [
       "       id                                name  host_id host_name  \\\n",
       "28  67134  [Taormina ] apartment ground floor   330536       NaN   \n",
       "\n",
       "    neighbourhood_group neighbourhood  latitude  longitude        room_type  \\\n",
       "28                  NaN      Acireale  37.65242    15.1936  Entire home/apt   \n",
       "\n",
       "    price  minimum_nights  number_of_reviews last_review  reviews_per_month  \\\n",
       "28     55               5                  9  2020-10-22               0.08   \n",
       "\n",
       "    calculated_host_listings_count  availability_365  \n",
       "28                               6               365  "
      ]
     },
     "execution_count": 17,
     "metadata": {},
     "output_type": "execute_result"
    }
   ],
   "source": [
    "listings[listings['id']==67134]"
   ]
  },
  {
   "cell_type": "markdown",
   "metadata": {},
   "source": [
    "#### Reviews"
   ]
  },
  {
   "cell_type": "markdown",
   "metadata": {},
   "source": [
    "Reviews dataframe only include two columns, the first pointing to a listing_id (structure identifier) and the second containing a date. Each row means that there is a review of the structure 'listing_id' done in the date 'date'"
   ]
  },
  {
   "cell_type": "code",
   "execution_count": 18,
   "metadata": {},
   "outputs": [],
   "source": [
    "reviews=pd.read_csv('reviews_short.csv')"
   ]
  },
  {
   "cell_type": "code",
   "execution_count": 19,
   "metadata": {},
   "outputs": [
    {
     "data": {
      "text/html": [
       "<div>\n",
       "<style scoped>\n",
       "    .dataframe tbody tr th:only-of-type {\n",
       "        vertical-align: middle;\n",
       "    }\n",
       "\n",
       "    .dataframe tbody tr th {\n",
       "        vertical-align: top;\n",
       "    }\n",
       "\n",
       "    .dataframe thead th {\n",
       "        text-align: right;\n",
       "    }\n",
       "</style>\n",
       "<table border=\"1\" class=\"dataframe\">\n",
       "  <thead>\n",
       "    <tr style=\"text-align: right;\">\n",
       "      <th></th>\n",
       "      <th>listing_id</th>\n",
       "      <th>date</th>\n",
       "    </tr>\n",
       "  </thead>\n",
       "  <tbody>\n",
       "    <tr>\n",
       "      <th>0</th>\n",
       "      <td>7011</td>\n",
       "      <td>2009-08-26</td>\n",
       "    </tr>\n",
       "    <tr>\n",
       "      <th>1</th>\n",
       "      <td>7011</td>\n",
       "      <td>2010-07-15</td>\n",
       "    </tr>\n",
       "    <tr>\n",
       "      <th>2</th>\n",
       "      <td>7011</td>\n",
       "      <td>2010-09-23</td>\n",
       "    </tr>\n",
       "  </tbody>\n",
       "</table>\n",
       "</div>"
      ],
      "text/plain": [
       "   listing_id        date\n",
       "0        7011  2009-08-26\n",
       "1        7011  2010-07-15\n",
       "2        7011  2010-09-23"
      ]
     },
     "execution_count": 19,
     "metadata": {},
     "output_type": "execute_result"
    }
   ],
   "source": [
    "reviews.head(3)"
   ]
  },
  {
   "cell_type": "code",
   "execution_count": 20,
   "metadata": {},
   "outputs": [
    {
     "name": "stdout",
     "output_type": "stream",
     "text": [
      "<class 'pandas.core.frame.DataFrame'>\n",
      "RangeIndex: 575218 entries, 0 to 575217\n",
      "Data columns (total 2 columns):\n",
      " #   Column      Non-Null Count   Dtype \n",
      "---  ------      --------------   ----- \n",
      " 0   listing_id  575218 non-null  int64 \n",
      " 1   date        575218 non-null  object\n",
      "dtypes: int64(1), object(1)\n",
      "memory usage: 8.8+ MB\n"
     ]
    }
   ],
   "source": [
    "reviews.info()"
   ]
  },
  {
   "cell_type": "markdown",
   "metadata": {},
   "source": [
    "The number of review in the list (575218) correspond to the sum of the column 'number_of_reviews' in the listing db "
   ]
  },
  {
   "cell_type": "code",
   "execution_count": 21,
   "metadata": {},
   "outputs": [
    {
     "data": {
      "text/plain": [
       "575218"
      ]
     },
     "execution_count": 21,
     "metadata": {},
     "output_type": "execute_result"
    }
   ],
   "source": [
    "listings['number_of_reviews'].sum()"
   ]
  },
  {
   "cell_type": "markdown",
   "metadata": {},
   "source": [
    "#### neighbourhoods"
   ]
  },
  {
   "cell_type": "markdown",
   "metadata": {},
   "source": [
    "The neighbourhoods file simply contains the list of villages and towns in Sicily. The neighbourhood_group has no values, so overall I believe this dataset has no use. The neighbourhoods.geojson file contains geographical polyghons for each towns and will not be used. "
   ]
  },
  {
   "cell_type": "code",
   "execution_count": 22,
   "metadata": {},
   "outputs": [],
   "source": [
    "neighb=pd.read_csv('neighbourhoods.csv')"
   ]
  },
  {
   "cell_type": "code",
   "execution_count": 23,
   "metadata": {},
   "outputs": [
    {
     "name": "stdout",
     "output_type": "stream",
     "text": [
      "<class 'pandas.core.frame.DataFrame'>\n",
      "RangeIndex: 390 entries, 0 to 389\n",
      "Data columns (total 2 columns):\n",
      " #   Column               Non-Null Count  Dtype  \n",
      "---  ------               --------------  -----  \n",
      " 0   neighbourhood_group  0 non-null      float64\n",
      " 1   neighbourhood        390 non-null    object \n",
      "dtypes: float64(1), object(1)\n",
      "memory usage: 6.2+ KB\n"
     ]
    }
   ],
   "source": [
    "neighb.info()"
   ]
  },
  {
   "cell_type": "code",
   "execution_count": 24,
   "metadata": {},
   "outputs": [
    {
     "data": {
      "text/html": [
       "<div>\n",
       "<style scoped>\n",
       "    .dataframe tbody tr th:only-of-type {\n",
       "        vertical-align: middle;\n",
       "    }\n",
       "\n",
       "    .dataframe tbody tr th {\n",
       "        vertical-align: top;\n",
       "    }\n",
       "\n",
       "    .dataframe thead th {\n",
       "        text-align: right;\n",
       "    }\n",
       "</style>\n",
       "<table border=\"1\" class=\"dataframe\">\n",
       "  <thead>\n",
       "    <tr style=\"text-align: right;\">\n",
       "      <th></th>\n",
       "      <th>neighbourhood_group</th>\n",
       "      <th>neighbourhood</th>\n",
       "    </tr>\n",
       "  </thead>\n",
       "  <tbody>\n",
       "    <tr>\n",
       "      <th>0</th>\n",
       "      <td>NaN</td>\n",
       "      <td>Acate</td>\n",
       "    </tr>\n",
       "    <tr>\n",
       "      <th>1</th>\n",
       "      <td>NaN</td>\n",
       "      <td>Aci Bonaccorsi</td>\n",
       "    </tr>\n",
       "    <tr>\n",
       "      <th>2</th>\n",
       "      <td>NaN</td>\n",
       "      <td>Aci Castello</td>\n",
       "    </tr>\n",
       "    <tr>\n",
       "      <th>3</th>\n",
       "      <td>NaN</td>\n",
       "      <td>Aci Catena</td>\n",
       "    </tr>\n",
       "    <tr>\n",
       "      <th>4</th>\n",
       "      <td>NaN</td>\n",
       "      <td>Acireale</td>\n",
       "    </tr>\n",
       "  </tbody>\n",
       "</table>\n",
       "</div>"
      ],
      "text/plain": [
       "   neighbourhood_group   neighbourhood\n",
       "0                  NaN           Acate\n",
       "1                  NaN  Aci Bonaccorsi\n",
       "2                  NaN    Aci Castello\n",
       "3                  NaN      Aci Catena\n",
       "4                  NaN        Acireale"
      ]
     },
     "execution_count": 24,
     "metadata": {},
     "output_type": "execute_result"
    }
   ],
   "source": [
    "neighb.head()"
   ]
  },
  {
   "cell_type": "markdown",
   "metadata": {},
   "source": [
    "#### Listing_full\n",
    "\n",
    "Finally, let's have a look at the full version of the listing and review files. The number of rows for listing_full file is the same of the basic listing dataframe (one row per structure). There are several additional columns (74 compared to 16), including for instance information on rating and some info about the house on rental (bathrooms, beds, etc)."
   ]
  },
  {
   "cell_type": "code",
   "execution_count": 25,
   "metadata": {},
   "outputs": [
    {
     "name": "stderr",
     "output_type": "stream",
     "text": [
      "C:\\Users\\Roberto\\anaconda3\\lib\\site-packages\\IPython\\core\\interactiveshell.py:3146: DtypeWarning: Columns (67) have mixed types.Specify dtype option on import or set low_memory=False.\n",
      "  has_raised = await self.run_ast_nodes(code_ast.body, cell_name,\n"
     ]
    }
   ],
   "source": [
    "listings_full=pd.read_csv('listings_full.csv')\n"
   ]
  },
  {
   "cell_type": "code",
   "execution_count": 26,
   "metadata": {},
   "outputs": [
    {
     "data": {
      "text/html": [
       "<div>\n",
       "<style scoped>\n",
       "    .dataframe tbody tr th:only-of-type {\n",
       "        vertical-align: middle;\n",
       "    }\n",
       "\n",
       "    .dataframe tbody tr th {\n",
       "        vertical-align: top;\n",
       "    }\n",
       "\n",
       "    .dataframe thead th {\n",
       "        text-align: right;\n",
       "    }\n",
       "</style>\n",
       "<table border=\"1\" class=\"dataframe\">\n",
       "  <thead>\n",
       "    <tr style=\"text-align: right;\">\n",
       "      <th></th>\n",
       "      <th>id</th>\n",
       "      <th>listing_url</th>\n",
       "      <th>scrape_id</th>\n",
       "      <th>last_scraped</th>\n",
       "      <th>name</th>\n",
       "      <th>description</th>\n",
       "      <th>neighborhood_overview</th>\n",
       "      <th>picture_url</th>\n",
       "      <th>host_id</th>\n",
       "      <th>host_url</th>\n",
       "      <th>...</th>\n",
       "      <th>review_scores_communication</th>\n",
       "      <th>review_scores_location</th>\n",
       "      <th>review_scores_value</th>\n",
       "      <th>license</th>\n",
       "      <th>instant_bookable</th>\n",
       "      <th>calculated_host_listings_count</th>\n",
       "      <th>calculated_host_listings_count_entire_homes</th>\n",
       "      <th>calculated_host_listings_count_private_rooms</th>\n",
       "      <th>calculated_host_listings_count_shared_rooms</th>\n",
       "      <th>reviews_per_month</th>\n",
       "    </tr>\n",
       "  </thead>\n",
       "  <tbody>\n",
       "    <tr>\n",
       "      <th>0</th>\n",
       "      <td>7011</td>\n",
       "      <td>https://www.airbnb.com/rooms/7011</td>\n",
       "      <td>20210327121154</td>\n",
       "      <td>2021-04-04</td>\n",
       "      <td>SEASIDE - Historic Antique Residence</td>\n",
       "      <td>WINEYARD WITH COLOURS OF THE SEASIDE!&lt;br /&gt;In ...</td>\n",
       "      <td>NaN</td>\n",
       "      <td>https://a0.muscache.com/pictures/79418909/9923...</td>\n",
       "      <td>16888</td>\n",
       "      <td>https://www.airbnb.com/users/show/16888</td>\n",
       "      <td>...</td>\n",
       "      <td>9.0</td>\n",
       "      <td>9.0</td>\n",
       "      <td>9.0</td>\n",
       "      <td>NaN</td>\n",
       "      <td>f</td>\n",
       "      <td>9</td>\n",
       "      <td>9</td>\n",
       "      <td>0</td>\n",
       "      <td>0</td>\n",
       "      <td>0.20</td>\n",
       "    </tr>\n",
       "    <tr>\n",
       "      <th>1</th>\n",
       "      <td>15782</td>\n",
       "      <td>https://www.airbnb.com/rooms/15782</td>\n",
       "      <td>20210327121154</td>\n",
       "      <td>2021-03-30</td>\n",
       "      <td>B&amp;B Mille e Una Notte</td>\n",
       "      <td>Located in the historical centre of Agrigento,...</td>\n",
       "      <td>NaN</td>\n",
       "      <td>https://a0.muscache.com/pictures/77197/e8d9eb2...</td>\n",
       "      <td>61786</td>\n",
       "      <td>https://www.airbnb.com/users/show/61786</td>\n",
       "      <td>...</td>\n",
       "      <td>9.0</td>\n",
       "      <td>9.0</td>\n",
       "      <td>9.0</td>\n",
       "      <td>NaN</td>\n",
       "      <td>t</td>\n",
       "      <td>3</td>\n",
       "      <td>0</td>\n",
       "      <td>3</td>\n",
       "      <td>0</td>\n",
       "      <td>0.05</td>\n",
       "    </tr>\n",
       "    <tr>\n",
       "      <th>2</th>\n",
       "      <td>22948</td>\n",
       "      <td>https://www.airbnb.com/rooms/22948</td>\n",
       "      <td>20210327121154</td>\n",
       "      <td>2021-04-05</td>\n",
       "      <td>ROOM WITH BALCONY-NEAR STATION</td>\n",
       "      <td>SELF SERVICE BREAKFAST Centrally located,withi...</td>\n",
       "      <td>The neighborhood is in a residential area, cen...</td>\n",
       "      <td>https://a0.muscache.com/pictures/109048390/8d4...</td>\n",
       "      <td>88837</td>\n",
       "      <td>https://www.airbnb.com/users/show/88837</td>\n",
       "      <td>...</td>\n",
       "      <td>10.0</td>\n",
       "      <td>10.0</td>\n",
       "      <td>10.0</td>\n",
       "      <td>NaN</td>\n",
       "      <td>t</td>\n",
       "      <td>5</td>\n",
       "      <td>1</td>\n",
       "      <td>4</td>\n",
       "      <td>0</td>\n",
       "      <td>2.25</td>\n",
       "    </tr>\n",
       "    <tr>\n",
       "      <th>3</th>\n",
       "      <td>28379</td>\n",
       "      <td>https://www.airbnb.com/rooms/28379</td>\n",
       "      <td>20210327121154</td>\n",
       "      <td>2021-04-04</td>\n",
       "      <td>Apartment in Taormina - Rinaldo</td>\n",
       "      <td>At your arrival or during your stay, we will a...</td>\n",
       "      <td>NaN</td>\n",
       "      <td>https://a0.muscache.com/pictures/7efa5564-3134...</td>\n",
       "      <td>121867</td>\n",
       "      <td>https://www.airbnb.com/users/show/121867</td>\n",
       "      <td>...</td>\n",
       "      <td>10.0</td>\n",
       "      <td>10.0</td>\n",
       "      <td>9.0</td>\n",
       "      <td>NaN</td>\n",
       "      <td>t</td>\n",
       "      <td>5</td>\n",
       "      <td>5</td>\n",
       "      <td>0</td>\n",
       "      <td>0</td>\n",
       "      <td>1.96</td>\n",
       "    </tr>\n",
       "    <tr>\n",
       "      <th>4</th>\n",
       "      <td>31099</td>\n",
       "      <td>https://www.airbnb.com/rooms/31099</td>\n",
       "      <td>20210327121154</td>\n",
       "      <td>2021-04-02</td>\n",
       "      <td>Studio apartment near CalaCreta bay</td>\n",
       "      <td>Studio apartment  with bedroom, bathroom with ...</td>\n",
       "      <td>Relaxing place</td>\n",
       "      <td>https://a0.muscache.com/pictures/80b2bc69-e072...</td>\n",
       "      <td>133563</td>\n",
       "      <td>https://www.airbnb.com/users/show/133563</td>\n",
       "      <td>...</td>\n",
       "      <td>10.0</td>\n",
       "      <td>9.0</td>\n",
       "      <td>9.0</td>\n",
       "      <td>NaN</td>\n",
       "      <td>t</td>\n",
       "      <td>2</td>\n",
       "      <td>2</td>\n",
       "      <td>0</td>\n",
       "      <td>0</td>\n",
       "      <td>0.51</td>\n",
       "    </tr>\n",
       "  </tbody>\n",
       "</table>\n",
       "<p>5 rows × 74 columns</p>\n",
       "</div>"
      ],
      "text/plain": [
       "      id                         listing_url       scrape_id last_scraped  \\\n",
       "0   7011   https://www.airbnb.com/rooms/7011  20210327121154   2021-04-04   \n",
       "1  15782  https://www.airbnb.com/rooms/15782  20210327121154   2021-03-30   \n",
       "2  22948  https://www.airbnb.com/rooms/22948  20210327121154   2021-04-05   \n",
       "3  28379  https://www.airbnb.com/rooms/28379  20210327121154   2021-04-04   \n",
       "4  31099  https://www.airbnb.com/rooms/31099  20210327121154   2021-04-02   \n",
       "\n",
       "                                   name  \\\n",
       "0  SEASIDE - Historic Antique Residence   \n",
       "1                 B&B Mille e Una Notte   \n",
       "2        ROOM WITH BALCONY-NEAR STATION   \n",
       "3       Apartment in Taormina - Rinaldo   \n",
       "4   Studio apartment near CalaCreta bay   \n",
       "\n",
       "                                         description  \\\n",
       "0  WINEYARD WITH COLOURS OF THE SEASIDE!<br />In ...   \n",
       "1  Located in the historical centre of Agrigento,...   \n",
       "2  SELF SERVICE BREAKFAST Centrally located,withi...   \n",
       "3  At your arrival or during your stay, we will a...   \n",
       "4  Studio apartment  with bedroom, bathroom with ...   \n",
       "\n",
       "                               neighborhood_overview  \\\n",
       "0                                                NaN   \n",
       "1                                                NaN   \n",
       "2  The neighborhood is in a residential area, cen...   \n",
       "3                                                NaN   \n",
       "4                                     Relaxing place   \n",
       "\n",
       "                                         picture_url  host_id  \\\n",
       "0  https://a0.muscache.com/pictures/79418909/9923...    16888   \n",
       "1  https://a0.muscache.com/pictures/77197/e8d9eb2...    61786   \n",
       "2  https://a0.muscache.com/pictures/109048390/8d4...    88837   \n",
       "3  https://a0.muscache.com/pictures/7efa5564-3134...   121867   \n",
       "4  https://a0.muscache.com/pictures/80b2bc69-e072...   133563   \n",
       "\n",
       "                                   host_url  ... review_scores_communication  \\\n",
       "0   https://www.airbnb.com/users/show/16888  ...                         9.0   \n",
       "1   https://www.airbnb.com/users/show/61786  ...                         9.0   \n",
       "2   https://www.airbnb.com/users/show/88837  ...                        10.0   \n",
       "3  https://www.airbnb.com/users/show/121867  ...                        10.0   \n",
       "4  https://www.airbnb.com/users/show/133563  ...                        10.0   \n",
       "\n",
       "  review_scores_location review_scores_value license instant_bookable  \\\n",
       "0                    9.0                 9.0     NaN                f   \n",
       "1                    9.0                 9.0     NaN                t   \n",
       "2                   10.0                10.0     NaN                t   \n",
       "3                   10.0                 9.0     NaN                t   \n",
       "4                    9.0                 9.0     NaN                t   \n",
       "\n",
       "  calculated_host_listings_count calculated_host_listings_count_entire_homes  \\\n",
       "0                              9                                           9   \n",
       "1                              3                                           0   \n",
       "2                              5                                           1   \n",
       "3                              5                                           5   \n",
       "4                              2                                           2   \n",
       "\n",
       "  calculated_host_listings_count_private_rooms  \\\n",
       "0                                            0   \n",
       "1                                            3   \n",
       "2                                            4   \n",
       "3                                            0   \n",
       "4                                            0   \n",
       "\n",
       "  calculated_host_listings_count_shared_rooms reviews_per_month  \n",
       "0                                           0              0.20  \n",
       "1                                           0              0.05  \n",
       "2                                           0              2.25  \n",
       "3                                           0              1.96  \n",
       "4                                           0              0.51  \n",
       "\n",
       "[5 rows x 74 columns]"
      ]
     },
     "execution_count": 26,
     "metadata": {},
     "output_type": "execute_result"
    }
   ],
   "source": [
    "listings_full.head()"
   ]
  },
  {
   "cell_type": "code",
   "execution_count": 27,
   "metadata": {},
   "outputs": [
    {
     "name": "stdout",
     "output_type": "stream",
     "text": [
      "<class 'pandas.core.frame.DataFrame'>\n",
      "RangeIndex: 49659 entries, 0 to 49658\n",
      "Data columns (total 74 columns):\n",
      " #   Column                                        Non-Null Count  Dtype  \n",
      "---  ------                                        --------------  -----  \n",
      " 0   id                                            49659 non-null  int64  \n",
      " 1   listing_url                                   49659 non-null  object \n",
      " 2   scrape_id                                     49659 non-null  int64  \n",
      " 3   last_scraped                                  49659 non-null  object \n",
      " 4   name                                          49654 non-null  object \n",
      " 5   description                                   48514 non-null  object \n",
      " 6   neighborhood_overview                         27772 non-null  object \n",
      " 7   picture_url                                   49659 non-null  object \n",
      " 8   host_id                                       49659 non-null  int64  \n",
      " 9   host_url                                      49659 non-null  object \n",
      " 10  host_name                                     47320 non-null  object \n",
      " 11  host_since                                    47320 non-null  object \n",
      " 12  host_location                                 47199 non-null  object \n",
      " 13  host_about                                    20982 non-null  object \n",
      " 14  host_response_time                            26130 non-null  object \n",
      " 15  host_response_rate                            26130 non-null  object \n",
      " 16  host_acceptance_rate                          34164 non-null  object \n",
      " 17  host_is_superhost                             47320 non-null  object \n",
      " 18  host_thumbnail_url                            47320 non-null  object \n",
      " 19  host_picture_url                              47320 non-null  object \n",
      " 20  host_neighbourhood                            1232 non-null   object \n",
      " 21  host_listings_count                           47320 non-null  float64\n",
      " 22  host_total_listings_count                     47320 non-null  float64\n",
      " 23  host_verifications                            49659 non-null  object \n",
      " 24  host_has_profile_pic                          47320 non-null  object \n",
      " 25  host_identity_verified                        47320 non-null  object \n",
      " 26  neighbourhood                                 27772 non-null  object \n",
      " 27  neighbourhood_cleansed                        49659 non-null  object \n",
      " 28  neighbourhood_group_cleansed                  0 non-null      float64\n",
      " 29  latitude                                      49659 non-null  float64\n",
      " 30  longitude                                     49659 non-null  float64\n",
      " 31  property_type                                 49659 non-null  object \n",
      " 32  room_type                                     49659 non-null  object \n",
      " 33  accommodates                                  49659 non-null  int64  \n",
      " 34  bathrooms                                     0 non-null      float64\n",
      " 35  bathrooms_text                                49574 non-null  object \n",
      " 36  bedrooms                                      48290 non-null  float64\n",
      " 37  beds                                          49477 non-null  float64\n",
      " 38  amenities                                     49659 non-null  object \n",
      " 39  price                                         49659 non-null  object \n",
      " 40  minimum_nights                                49659 non-null  int64  \n",
      " 41  maximum_nights                                49659 non-null  int64  \n",
      " 42  minimum_minimum_nights                        49659 non-null  int64  \n",
      " 43  maximum_minimum_nights                        49659 non-null  int64  \n",
      " 44  minimum_maximum_nights                        49659 non-null  int64  \n",
      " 45  maximum_maximum_nights                        49659 non-null  int64  \n",
      " 46  minimum_nights_avg_ntm                        49659 non-null  float64\n",
      " 47  maximum_nights_avg_ntm                        49659 non-null  float64\n",
      " 48  calendar_updated                              0 non-null      float64\n",
      " 49  has_availability                              49659 non-null  object \n",
      " 50  availability_30                               49659 non-null  int64  \n",
      " 51  availability_60                               49659 non-null  int64  \n",
      " 52  availability_90                               49659 non-null  int64  \n",
      " 53  availability_365                              49659 non-null  int64  \n",
      " 54  calendar_last_scraped                         49659 non-null  object \n",
      " 55  number_of_reviews                             49659 non-null  int64  \n",
      " 56  number_of_reviews_ltm                         49659 non-null  int64  \n",
      " 57  number_of_reviews_l30d                        49659 non-null  int64  \n",
      " 58  first_review                                  31597 non-null  object \n",
      " 59  last_review                                   31597 non-null  object \n",
      " 60  review_scores_rating                          30815 non-null  float64\n",
      " 61  review_scores_accuracy                        30782 non-null  float64\n",
      " 62  review_scores_cleanliness                     30794 non-null  float64\n",
      " 63  review_scores_checkin                         30770 non-null  float64\n",
      " 64  review_scores_communication                   30780 non-null  float64\n",
      " 65  review_scores_location                        30770 non-null  float64\n",
      " 66  review_scores_value                           30770 non-null  float64\n",
      " 67  license                                       128 non-null    object \n",
      " 68  instant_bookable                              49659 non-null  object \n",
      " 69  calculated_host_listings_count                49659 non-null  int64  \n",
      " 70  calculated_host_listings_count_entire_homes   49659 non-null  int64  \n",
      " 71  calculated_host_listings_count_private_rooms  49659 non-null  int64  \n",
      " 72  calculated_host_listings_count_shared_rooms   49659 non-null  int64  \n",
      " 73  reviews_per_month                             31597 non-null  float64\n",
      "dtypes: float64(19), int64(21), object(34)\n",
      "memory usage: 28.0+ MB\n"
     ]
    }
   ],
   "source": [
    "listings_full.info()"
   ]
  },
  {
   "cell_type": "markdown",
   "metadata": {},
   "source": [
    "#### Review full\n",
    "Finally, let's have a look at the whole information about reviews.  Compared to the basic review dataset, the full file include some info about the reviewer and a text columns showing comments"
   ]
  },
  {
   "cell_type": "code",
   "execution_count": 28,
   "metadata": {},
   "outputs": [],
   "source": [
    "reviews_full=pd.read_csv('reviews_full.csv')"
   ]
  },
  {
   "cell_type": "code",
   "execution_count": 29,
   "metadata": {},
   "outputs": [
    {
     "data": {
      "text/html": [
       "<div>\n",
       "<style scoped>\n",
       "    .dataframe tbody tr th:only-of-type {\n",
       "        vertical-align: middle;\n",
       "    }\n",
       "\n",
       "    .dataframe tbody tr th {\n",
       "        vertical-align: top;\n",
       "    }\n",
       "\n",
       "    .dataframe thead th {\n",
       "        text-align: right;\n",
       "    }\n",
       "</style>\n",
       "<table border=\"1\" class=\"dataframe\">\n",
       "  <thead>\n",
       "    <tr style=\"text-align: right;\">\n",
       "      <th></th>\n",
       "      <th>listing_id</th>\n",
       "      <th>id</th>\n",
       "      <th>date</th>\n",
       "      <th>reviewer_id</th>\n",
       "      <th>reviewer_name</th>\n",
       "      <th>comments</th>\n",
       "    </tr>\n",
       "  </thead>\n",
       "  <tbody>\n",
       "    <tr>\n",
       "      <th>0</th>\n",
       "      <td>7011</td>\n",
       "      <td>8283</td>\n",
       "      <td>2009-08-26</td>\n",
       "      <td>19620</td>\n",
       "      <td>Ivan</td>\n",
       "      <td>Hello!\\r\\nIt was wonderfull!!!! Greatfull apar...</td>\n",
       "    </tr>\n",
       "    <tr>\n",
       "      <th>1</th>\n",
       "      <td>7011</td>\n",
       "      <td>65032</td>\n",
       "      <td>2010-07-15</td>\n",
       "      <td>160517</td>\n",
       "      <td>Helen</td>\n",
       "      <td>Yumi and Adriano were wonderful hosts.  We sta...</td>\n",
       "    </tr>\n",
       "    <tr>\n",
       "      <th>2</th>\n",
       "      <td>7011</td>\n",
       "      <td>103213</td>\n",
       "      <td>2010-09-23</td>\n",
       "      <td>161498</td>\n",
       "      <td>Debra</td>\n",
       "      <td>We chose to go to Sicily and Marsala because w...</td>\n",
       "    </tr>\n",
       "    <tr>\n",
       "      <th>3</th>\n",
       "      <td>7011</td>\n",
       "      <td>225115</td>\n",
       "      <td>2011-04-13</td>\n",
       "      <td>242583</td>\n",
       "      <td>Antoinette</td>\n",
       "      <td>Our stay at the Villa Salinara was a total del...</td>\n",
       "    </tr>\n",
       "    <tr>\n",
       "      <th>4</th>\n",
       "      <td>7011</td>\n",
       "      <td>349054</td>\n",
       "      <td>2011-07-03</td>\n",
       "      <td>228192</td>\n",
       "      <td>Sara</td>\n",
       "      <td>We stayed at Villa Salinara last week (late Ju...</td>\n",
       "    </tr>\n",
       "  </tbody>\n",
       "</table>\n",
       "</div>"
      ],
      "text/plain": [
       "   listing_id      id        date  reviewer_id reviewer_name  \\\n",
       "0        7011    8283  2009-08-26        19620          Ivan   \n",
       "1        7011   65032  2010-07-15       160517         Helen   \n",
       "2        7011  103213  2010-09-23       161498         Debra   \n",
       "3        7011  225115  2011-04-13       242583    Antoinette   \n",
       "4        7011  349054  2011-07-03       228192          Sara   \n",
       "\n",
       "                                            comments  \n",
       "0  Hello!\\r\\nIt was wonderfull!!!! Greatfull apar...  \n",
       "1  Yumi and Adriano were wonderful hosts.  We sta...  \n",
       "2  We chose to go to Sicily and Marsala because w...  \n",
       "3  Our stay at the Villa Salinara was a total del...  \n",
       "4  We stayed at Villa Salinara last week (late Ju...  "
      ]
     },
     "execution_count": 29,
     "metadata": {},
     "output_type": "execute_result"
    }
   ],
   "source": [
    "reviews_full.head()"
   ]
  },
  {
   "cell_type": "code",
   "execution_count": 30,
   "metadata": {},
   "outputs": [
    {
     "name": "stdout",
     "output_type": "stream",
     "text": [
      "<class 'pandas.core.frame.DataFrame'>\n",
      "RangeIndex: 575218 entries, 0 to 575217\n",
      "Data columns (total 6 columns):\n",
      " #   Column         Non-Null Count   Dtype \n",
      "---  ------         --------------   ----- \n",
      " 0   listing_id     575218 non-null  int64 \n",
      " 1   id             575218 non-null  int64 \n",
      " 2   date           575218 non-null  object\n",
      " 3   reviewer_id    575218 non-null  int64 \n",
      " 4   reviewer_name  575218 non-null  object\n",
      " 5   comments       575087 non-null  object\n",
      "dtypes: int64(3), object(3)\n",
      "memory usage: 26.3+ MB\n"
     ]
    }
   ],
   "source": [
    "reviews_full.info()"
   ]
  },
  {
   "cell_type": "code",
   "execution_count": 31,
   "metadata": {},
   "outputs": [
    {
     "data": {
      "text/plain": [
       "array(['Marsala', 'Agrigento', 'Taormina', 'Lampedusa e Linosa',\n",
       "       'Piedimonte Etneo', 'Vittoria', 'Erice', 'San Vito Lo Capo',\n",
       "       'Giardini-Naxos', 'Siracusa', \"Sant'Angelo di Brolo\",\n",
       "       'Linguaglossa', 'Acireale', 'Avola', 'Palermo', 'Scicli',\n",
       "       'Roccalumera', 'Ragusa', 'Mazara del Vallo',\n",
       "       'Palma di Montechiaro', 'Lipari', 'Modica', 'Sciacca', 'Realmonte',\n",
       "       'Milazzo', 'Santa Marina Salina', 'Augusta', 'Gioiosa Marea',\n",
       "       'Castellammare del Golfo', 'Graniti', \"Motta Sant'Anastasia\",\n",
       "       'Trapani', 'Noto', 'Altavilla Milicia', 'Catania', 'Alcamo',\n",
       "       'Pantelleria', 'Letojanni', 'Belpasso', 'Balestrate', 'Nicolosi',\n",
       "       'Valderice', 'Acquedolci', 'Pozzallo', 'Comiso', 'Ispica',\n",
       "       'Valverde', 'Aci Catena', 'Isola delle Femmine', 'Cefal',\n",
       "       'Piazza Armerina', 'Itala', 'Terrasini', 'Gravina di Catania',\n",
       "       'Zafferana Etnea', 'Chiaramonte Gulfi', 'Trappeto', 'Montallegro',\n",
       "       'Castelvetrano', 'Rod Milici', 'Patti', 'Tusa', 'Messina',\n",
       "       'Misterbianco', 'Gela', 'Librizzi', 'Buseto Palizzolo',\n",
       "       'Santa Croce Camerina', 'Viagrande', \"Capo d'Orlando\", 'Monreale',\n",
       "       'Randazzo', 'Francavilla di Sicilia', 'Mascali', 'Favignana',\n",
       "       'Giarre', 'Terme Vigliatore', 'Caltagirone', 'Gibellina',\n",
       "       'Santa Margherita di Belice', 'Licata', 'Casteldaccia',\n",
       "       \"Forza d'Agr\", 'Pachino', 'Ustica', 'Malfa', 'Riposto', 'Trabia',\n",
       "       'Campobello di Mazara', 'Paceco', 'Cinisi', 'Melilli',\n",
       "       'Belmonte Mezzagno', 'Motta Camastra', 'Centuripe', 'San Cataldo',\n",
       "       'Pedara', 'Resuttano', 'Aci Castello', 'Naso',\n",
       "       'Calatafimi-Segesta', 'Mascalucia', 'Casteltermini', 'Menfi',\n",
       "       'Santa Maria di Licodia', 'Custonaci', 'Lascari',\n",
       "       'Santo Stefano di Camastra', 'Furnari', 'Partinico', 'Ficarra',\n",
       "       'Caccamo', 'Torretta', 'Palazzolo Acreide', \"San Marco d'Alunzio\",\n",
       "       'Rosolini', 'Adrano', 'Santa Venerina', 'Gaggi', 'Sclafani Bagni',\n",
       "       'Gangi', 'Trecastagni', 'Salaparuta', 'Enna',\n",
       "       'Barcellona Pozzo di Gotto', 'Galati Mamertino', 'Piraino',\n",
       "       'Mazzarino', 'Acate', 'Pollina', 'Carini', 'Priolo Gargallo',\n",
       "       \"Sant'Alessio Siculo\", 'Reitano', 'Campofelice di Roccella',\n",
       "       'Milo', \"Sant'Agata di Militello\", 'Salemi',\n",
       "       'San Gregorio di Catania', 'Santa Flavia', 'Campofiorito',\n",
       "       'Bolognetta', 'Calatabiano', 'Tremestieri Etneo', 'Oliveri',\n",
       "       'Ragalna', 'Canicatt', 'Ribera', 'Falcone',\n",
       "       'Portopalo di Capo Passero', 'Nicosia', 'Santa Lucia del Mela',\n",
       "       'Petralia Soprana', 'San Pier Niceto', 'Pace del Mela', 'Leni',\n",
       "       'Corleone', 'San Giovanni la Punta', 'Grammichele', 'Assoro',\n",
       "       'Castelmola', 'Grotte', 'Al Terme', 'Biancavilla', 'Brolo',\n",
       "       'Riesi', 'Fiumefreddo di Sicilia', 'Castroreale',\n",
       "       'Termini Imerese', 'Sambuca di Sicilia', 'Nizza di Sicilia',\n",
       "       'Gualtieri Sicamin', 'Capri Leone', 'Polizzi Generosa',\n",
       "       'Monforte San Giorgio', 'Capaci', 'Isnello', 'Mistretta',\n",
       "       'Petrosino', 'Porto Empedocle', 'Cassaro', 'Rometta', 'Racalmuto',\n",
       "       'Torrenova', 'Cianciana', 'Petralia Sottana', 'Prizzi',\n",
       "       'Misilmeri', 'Niscemi', \"Sant'Alfio\", 'Mandanici', 'Mirto',\n",
       "       'Gratteri', 'Montevago', 'Caltanissetta', 'Santa Teresa di Riva',\n",
       "       'Joppolo Giancaxio', 'Furci Siculo', 'Marineo', 'Floridia',\n",
       "       'Cattolica Eraclea', \"Aci Sant'Antonio\", 'Castiglione di Sicilia',\n",
       "       'Ficarazzi', 'Bagheria', 'Partanna', 'Roccapalumba', 'Villabate',\n",
       "       'Lercara Friddi', 'San Pietro Clarenza', 'San Piero Patti', 'Alia',\n",
       "       'San Michele di Ganzaria', 'Castel di Iudica', 'Palazzo Adriano',\n",
       "       'Valguarnera Caropepe', 'Montalbano Elicona', 'Carlentini',\n",
       "       'Ferla', 'Calamonaci', 'Torregrotta', 'Castelbuono', 'Burgio',\n",
       "       'Pettineo', 'Favara', 'Longi', 'Aci Bonaccorsi', 'Caronia',\n",
       "       'Collesano', 'Campobello di Licata', 'Santo Stefano Quisquina',\n",
       "       'Vallelunga Pratameno', 'Licodia Eubea', 'Spadafora',\n",
       "       'Francofonte', 'Scillato', 'Siculiana', 'Bisacquino',\n",
       "       'San Giovanni Gemini', 'Canicattini Bagni', 'Gallodoro', 'Savoca',\n",
       "       'Castellana Sicula', 'Agira', 'Aidone', 'Santa Ninfa', 'Solarino',\n",
       "       'Contessa Entellina', 'Bronte', 'Borgetto', 'Naro', 'Pietraperzia',\n",
       "       'Sortino', 'Bompietro', 'Butera', 'San Giuseppe Jato', 'Leonforte',\n",
       "       'Villafranca Sicula', 'Sutera', 'Venetico', 'Santa Cristina Gela',\n",
       "       'Caltabellotta', 'Campofranco', 'Montelepre',\n",
       "       'San Filippo del Mela', 'Villafranca Tirrena', 'Villalba',\n",
       "       'Montagnareale', 'Patern', 'Giarratana', 'Scordia',\n",
       "       'Castel di Lucio', 'Buccheri', 'Casalvecchio Siculo', 'Alimena',\n",
       "       'Mirabella Imbaccari', 'Calascibetta', 'Roccella Valdemone',\n",
       "       'Mussomeli', \"Motta d'Affermo\", 'Basic', 'Altofonte', 'Roccamena',\n",
       "       'Vizzini', 'Monterosso Almo', 'Scaletta Zanclea',\n",
       "       \"Sant'Agata li Battiati\", 'Camastra', 'Floresta',\n",
       "       \"Castell'Umberto\", 'San Biagio Platani', 'Maletto',\n",
       "       \"Sant'Angelo Muxaro\", 'Regalbuto', 'Lentini', 'Villarosa',\n",
       "       'Buscemi', 'Nissoria', 'Aragona', 'Moio Alcantara', 'Ciminna',\n",
       "       'Cammarata', 'Ravanusa', 'Roccavaldina',\n",
       "       'Santa Caterina Villarmosa', 'Tripi', 'Geraci Siculo', 'Pagliara',\n",
       "       'San Mauro Castelverde', 'Barrafranca', 'Mongiuffi Melia',\n",
       "       'Villafrati', 'Camporeale', 'Militello Rosmarino',\n",
       "       'Piana degli Albanesi', 'Novara di Sicilia', 'Troina',\n",
       "       'Militello in Val di Catania', 'Condr', 'Castronovo di Sicilia',\n",
       "       'Camporotondo Etneo', 'Saponara', 'Santa Domenica Vittoria',\n",
       "       'Vita', 'Castrofilippo', 'Raffadali', 'Giardinello', 'Malvagna',\n",
       "       'Serradifalco', 'Chiusa Sclafani', 'Caltavuturo',\n",
       "       'Montemaggiore Belsito', 'Mineo', 'Sinagra', 'Sommatino', 'Al',\n",
       "       'Santa Elisabetta', 'Cefal Diana', 'Mezzojuso', 'Sperlinga',\n",
       "       'Poggioreale', 'Mer', 'San Cono', 'Tortorici', 'Cerda',\n",
       "       'Lucca Sicula', 'Fiumedinisi', 'Raccuja', 'Roccafiorita',\n",
       "       'Valledolmo', 'Acquaviva Platani', 'Fondachelli-Fantina', 'Cesar',\n",
       "       'Bivona', 'Alcara li Fusi', 'Sciara', 'Comitini',\n",
       "       'Gagliano Castelferrato', 'Milena', 'Catenanuova', 'San Fratello',\n",
       "       'Delia', 'Maniace', 'Ramacca', 'Ventimiglia di Sicilia',\n",
       "       'Bompensiere', 'Marianopoli', 'Valdina', 'Godrano'], dtype=object)"
      ]
     },
     "execution_count": 31,
     "metadata": {},
     "output_type": "execute_result"
    }
   ],
   "source": [
    "listings_full['neighbourhood_cleansed'].unique()"
   ]
  },
  {
   "cell_type": "code",
   "execution_count": null,
   "metadata": {},
   "outputs": [],
   "source": []
  },
  {
   "cell_type": "code",
   "execution_count": null,
   "metadata": {},
   "outputs": [],
   "source": []
  }
 ],
 "metadata": {
  "kernelspec": {
   "display_name": "Python 3",
   "language": "python",
   "name": "python3"
  },
  "language_info": {
   "codemirror_mode": {
    "name": "ipython",
    "version": 3
   },
   "file_extension": ".py",
   "mimetype": "text/x-python",
   "name": "python",
   "nbconvert_exporter": "python",
   "pygments_lexer": "ipython3",
   "version": "3.8.5"
  }
 },
 "nbformat": 4,
 "nbformat_minor": 2
}
